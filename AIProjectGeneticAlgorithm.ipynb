{
  "nbformat": 4,
  "nbformat_minor": 0,
  "metadata": {
    "colab": {
      "name": "AIProjectGeneticAlgorithm.ipynb",
      "provenance": [],
      "collapsed_sections": [],
      "toc_visible": true,
      "mount_file_id": "1tJP3LTBXxRZ6Hpo6CXznmzyNMkMKpLN8",
      "authorship_tag": "ABX9TyN+AC+Mji7OYiuo1vS8CcTr",
      "include_colab_link": true
    },
    "kernelspec": {
      "name": "python3",
      "display_name": "Python 3"
    },
    "language_info": {
      "name": "python"
    }
  },
  "cells": [
    {
      "cell_type": "markdown",
      "metadata": {
        "id": "view-in-github",
        "colab_type": "text"
      },
      "source": [
        "<a href=\"https://colab.research.google.com/github/HT696/LocalSearchPicture/blob/main/AIProjectGeneticAlgorithm.ipynb\" target=\"_parent\"><img src=\"https://colab.research.google.com/assets/colab-badge.svg\" alt=\"Open In Colab\"/></a>"
      ]
    },
    {
      "cell_type": "markdown",
      "metadata": {
        "id": "p0HCgC4BHIQk"
      },
      "source": [
        "Imported Libraries"
      ]
    },
    {
      "cell_type": "code",
      "metadata": {
        "id": "k0X6obZg95kh"
      },
      "source": [
        "from skimage.io import imshow, imread\n",
        "from skimage import img_as_bool ,img_as_uint, exposure ,img_as_ubyte\n",
        "from skimage.io import imsave\n",
        "import random\n",
        "import copy\n",
        "import numpy as np\n",
        "from matplotlib import pyplot as plt"
      ],
      "execution_count": 98,
      "outputs": []
    },
    {
      "cell_type": "markdown",
      "metadata": {
        "id": "wHGww4afJLiI"
      },
      "source": [
        "#imported images"
      ]
    },
    {
      "cell_type": "code",
      "metadata": {
        "id": "e-X5Ex44bKOK"
      },
      "source": [
        "P=64"
      ],
      "execution_count": 2,
      "outputs": []
    },
    {
      "cell_type": "code",
      "metadata": {
        "id": "6xQg-5PLHeiO"
      },
      "source": [
        "rgb=imread(\"/content/drive/MyDrive/Colab Notebooks/content/rgb.jpg\")\n",
        "gray=imread(\"/content/drive/MyDrive/Colab Notebooks/content/gray.jpg\")\n",
        "binary=img_as_bool(imread(\"/content/drive/MyDrive/Colab Notebooks/content/gray.jpg\"))"
      ],
      "execution_count": 3,
      "outputs": []
    },
    {
      "cell_type": "code",
      "metadata": {
        "colab": {
          "base_uri": "https://localhost:8080/",
          "height": 1000
        },
        "id": "4sc7zf9RI26v",
        "outputId": "b9693562-528c-4178-b661-44d6c87cfdfb"
      },
      "source": [
        "imshow(rgb)\n",
        "print(rgb.shape,rgb)"
      ],
      "execution_count": 4,
      "outputs": [
        {
          "output_type": "stream",
          "text": [
            "(64, 64, 3) [[[156 140 140]\n",
            "  [157 143 143]\n",
            "  [154 142 144]\n",
            "  ...\n",
            "  [180 180 188]\n",
            "  [182 182 190]\n",
            "  [185 185 193]]\n",
            "\n",
            " [[157 141 141]\n",
            "  [159 145 145]\n",
            "  [157 145 147]\n",
            "  ...\n",
            "  [173 173 181]\n",
            "  [180 180 188]\n",
            "  [186 186 196]]\n",
            "\n",
            " [[157 141 141]\n",
            "  [161 147 147]\n",
            "  [161 149 151]\n",
            "  ...\n",
            "  [168 168 176]\n",
            "  [172 172 182]\n",
            "  [177 177 187]]\n",
            "\n",
            " ...\n",
            "\n",
            " [[201 188 154]\n",
            "  [185 172 138]\n",
            "  [206 191 158]\n",
            "  ...\n",
            "  [ 29  27  38]\n",
            "  [ 22  24  36]\n",
            "  [ 17  21  32]]\n",
            "\n",
            " [[192 179 145]\n",
            "  [194 181 147]\n",
            "  [200 187 153]\n",
            "  ...\n",
            "  [ 30  28  39]\n",
            "  [ 15  17  29]\n",
            "  [ 19  23  34]]\n",
            "\n",
            " [[193 183 148]\n",
            "  [205 195 160]\n",
            "  [189 176 142]\n",
            "  ...\n",
            "  [ 34  32  43]\n",
            "  [ 13  15  27]\n",
            "  [ 21  25  36]]]\n"
          ],
          "name": "stdout"
        },
        {
          "output_type": "display_data",
          "data": {
            "image/png": "[encoded data removed]",
            "text/plain": [
              "<Figure size 432x288 with 1 Axes>"
            ]
          },
          "metadata": {
            "tags": [],
            "needs_background": "light"
          }
        }
      ]
    },
    {
      "cell_type": "code",
      "metadata": {
        "colab": {
          "base_uri": "https://localhost:8080/",
          "height": 426
        },
        "id": "lOKcWf0PJSlw",
        "outputId": "9653329a-464e-4ec3-dbd8-b653d9e577d3"
      },
      "source": [
        "imshow(gray)\n",
        "print(gray.shape,gray)"
      ],
      "execution_count": 5,
      "outputs": [
        {
          "output_type": "stream",
          "text": [
            "(64, 64) [[144 145 144 ... 184 185 185]\n",
            " [144 147 147 ... 176 182 187]\n",
            " [145 150 151 ... 168 174 180]\n",
            " ...\n",
            " [186 172 193 ...  28  23  19]\n",
            " [177 180 187 ...  29  17  21]\n",
            " [180 193 177 ...  33  14  23]]\n"
          ],
          "name": "stdout"
        },
        {
          "output_type": "display_data",
          "data": {
            "image/png": "[encoded data removed]",
            "text/plain": [
              "<Figure size 432x288 with 1 Axes>"
            ]
          },
          "metadata": {
            "tags": [],
            "needs_background": "light"
          }
        }
      ]
    },
    {
      "cell_type": "code",
      "metadata": {
        "colab": {
          "base_uri": "https://localhost:8080/",
          "height": 426
        },
        "id": "4sjIGumQJlb0",
        "outputId": "94916706-6aa8-4fc6-e2be-dc19ccc5b1db"
      },
      "source": [
        "imshow(binary)\n",
        "print(binary.shape\n",
        ",binary)"
      ],
      "execution_count": 6,
      "outputs": [
        {
          "output_type": "stream",
          "text": [
            "(64, 64) [[ True  True  True ...  True  True  True]\n",
            " [ True  True  True ...  True  True  True]\n",
            " [ True  True  True ...  True  True  True]\n",
            " ...\n",
            " [ True  True  True ... False False False]\n",
            " [ True  True  True ... False False False]\n",
            " [ True  True  True ... False False False]]\n"
          ],
          "name": "stdout"
        },
        {
          "output_type": "display_data",
          "data": {
            "image/png": "[encoded data removed]",
            "text/plain": [
              "<Figure size 432x288 with 1 Axes>"
            ]
          },
          "metadata": {
            "tags": [],
            "needs_background": "light"
          }
        }
      ]
    },
    {
      "cell_type": "markdown",
      "metadata": {
        "id": "yGOnmrZMLVz3"
      },
      "source": [
        "#Genetic Algorithm"
      ]
    },
    {
      "cell_type": "markdown",
      "metadata": {
        "id": "ELwHcmRooAIL"
      },
      "source": [
        "##Functions"
      ]
    },
    {
      "cell_type": "code",
      "metadata": {
        "id": "3xOEt2UM-D_x"
      },
      "source": [
        "def Breed(Breeders,Target):\n",
        "  Children=[]\n",
        "  temp=0\n",
        "  geneSize=len(Target)\n",
        "  while temp<len(Breeders):\n",
        "    Point=random.choice(range(geneSize))#Point of heritage , Cutting genes\n",
        "    #print(\"Point :\",Point)\n",
        "    cGenes=Breeders[temp].genes[0:Point]+Breeders[temp+1].genes[Point:]#Child 1 Genes\n",
        "    #print(\"G1 :\",cGenes)\n",
        "    Children.append(chromosome(cGenes,fitnessFunc(Target,cGenes))) \n",
        "    cGenes=Breeders[temp+1].genes[0:Point]+Breeders[temp].genes[Point:]#Child 2 Genes\n",
        "    #print(\"G1 :\",cGenes)\n",
        "    Children.append(chromosome(cGenes,fitnessFunc(Target,cGenes)))\n",
        "    temp+=2\n",
        "\n",
        "  return Children"
      ],
      "execution_count": 7,
      "outputs": []
    },
    {
      "cell_type": "code",
      "metadata": {
        "id": "ndOPiQygN2Ax"
      },
      "source": [
        "def mutate(Mutants,GeneSet,Target):\n",
        "    for i in Mutants :\n",
        "      i.genes[random.choice(range(len(i.genes)))]=random.choice(GeneSet)\n",
        "      i.fitness=fitnessFunc(Target,i.genes)\n",
        "    return Mutants\n"
      ],
      "execution_count": 8,
      "outputs": []
    },
    {
      "cell_type": "code",
      "metadata": {
        "id": "v_ajsss-41FS"
      },
      "source": [
        "def Eugenics(Population,Weights,popSize):\n",
        "  while len(Population)>popSize :\n",
        "    Worst =getWorst(Weights)\n",
        "    del Population[Worst],Weights[Worst]\n",
        "  Weights=getWeights(Population)\n",
        "  return Weights"
      ],
      "execution_count": 9,
      "outputs": []
    },
    {
      "cell_type": "code",
      "metadata": {
        "id": "OEmtypbor6zO"
      },
      "source": [
        "def InitPop(Size,length, geneSet,Target) :\n",
        "  Pop=[]\n",
        "  for i in range(0,Size):\n",
        "    Pop.append(generate_individual(length, geneSet,Target))\n",
        "  return Pop"
      ],
      "execution_count": 10,
      "outputs": []
    },
    {
      "cell_type": "code",
      "metadata": {
        "id": "inPlmIUWN4Me"
      },
      "source": [
        "def getWeights(Population):\n",
        "  Weights=[]\n",
        "  Sum=0\n",
        "  L=len(Population)\n",
        "  for i in range(0,L):\n",
        "    Fit = Population[i].fitness\n",
        "    Weights.append(Fit)\n",
        "    Sum+=Fit\n",
        "  return np.divide(Weights,Sum).tolist()\n"
      ],
      "execution_count": 11,
      "outputs": []
    },
    {
      "cell_type": "code",
      "metadata": {
        "id": "jDu68aIck9pi"
      },
      "source": [
        "#Returns Index of the Best \n",
        "def getBest(Weights):\n",
        "  temp=np.array(Weights)\n",
        "  return (np.where(temp==max(temp))[0][0])"
      ],
      "execution_count": 12,
      "outputs": []
    },
    {
      "cell_type": "code",
      "metadata": {
        "id": "tzO7_X1mqWuX"
      },
      "source": [
        "#Returns Index of the Worst \n",
        "def getWorst(Weights):\n",
        "  temp=np.array(Weights)\n",
        "  return (np.where(temp==min(temp))[0][0])"
      ],
      "execution_count": 13,
      "outputs": []
    },
    {
      "cell_type": "code",
      "metadata": {
        "id": "jI1N_AzeN0hi"
      },
      "source": [
        "def generate_individual(length, geneSet,Target):\n",
        "    genes = []\n",
        "    while len(genes) < length:\n",
        "        sampleSize = min(length - len(genes), len(geneSet))\n",
        "        genes.extend(random.sample(geneSet, sampleSize))\n",
        "    fitness = fitnessFunc(genes,Target)\n",
        "    return chromosome(genes, fitness)"
      ],
      "execution_count": 14,
      "outputs": []
    },
    {
      "cell_type": "code",
      "metadata": {
        "id": "-T_OwuM45-xa"
      },
      "source": [
        "#chromosome = individual\n",
        "class chromosome:\n",
        "    def __init__(self, genes, fitness):\n",
        "        self.genes = genes\n",
        "        self.fitness = fitness"
      ],
      "execution_count": 15,
      "outputs": []
    },
    {
      "cell_type": "code",
      "metadata": {
        "id": "F4o_nb-d_mWC"
      },
      "source": [
        "def Plot(genPlot,genFit,popSize):\n",
        "  plt.plot(genPlot,genFit,label='Population : '+str(popSize))\n",
        "\n",
        "  plt.xlabel('Generations')\n",
        "  plt.ylabel('Fitness(Pixels)')\n",
        "  plt.title('Efficancy')\n",
        "  plt.legend()\n",
        "  plt.show()"
      ],
      "execution_count": 16,
      "outputs": []
    },
    {
      "cell_type": "markdown",
      "metadata": {
        "id": "U8NSAZntdE0c"
      },
      "source": [
        "##Binary"
      ]
    },
    {
      "cell_type": "markdown",
      "metadata": {
        "id": "8bIJYOwZ61Ys"
      },
      "source": [
        "###Functions"
      ]
    },
    {
      "cell_type": "code",
      "metadata": {
        "id": "rAT02a2P4-g5"
      },
      "source": [
        "def MODEL(geneSet,popSize,maxGen,mutation_rate,MatingNum,Target) :\n",
        "  gen=0\n",
        "  genFit=[] # the Fittest in the generation\n",
        "  MatingNum=int(MatingNum)*2 # Number of Breeders\n",
        "  Breeders=[]\n",
        "  Mutants=[]\n",
        "  GeneSet=[0,1]\n",
        "  \n",
        "  genPlot=[] # Plotting Generations\n",
        "\n",
        "\n",
        "  Population=InitPop(popSize,Target.size,geneSet,Target)\n",
        "  Weights=getWeights(Population)\n",
        "\n",
        "\n",
        "  while gen < maxGen :\n",
        "  \n",
        "    Breeders=copy.copy(np.random.choice(Population, MatingNum,\n",
        "                           p=Weights))\n",
        "    Children=Breed(Breeders,Target)\n",
        "    #print()\n",
        "    for c in Children :\n",
        "      Mutants=np.random.choice([c]+[False],1,p=[mutation_rate,0.95])\n",
        "      if Mutants.any():\n",
        "        mutate(Mutants,GeneSet,Target)\n",
        "    Population=Population+Children\n",
        "    Weights=getWeights(Population)\n",
        "    Weights=Eugenics(Population,Weights,popSize)\n",
        "    if gen%10==0:\n",
        "      Best=Population[getBest(Weights)]\n",
        "    \n",
        "      genPlot.append(gen)\n",
        "      genFit.append(Best.fitness)\n",
        "    if gen%100==0 :\n",
        "      print(gen)\n",
        "  #  if gen%2000==0 and gen != 0:\n",
        "  #    ShowImg(Best.genes)\n",
        "    gen+=1\n",
        "  Plot(genPlot,genFit,popSize)\n",
        "  print(\"\\n final Output :\",Best.fitness,\"Ratio :\",Best.fitness/len(Target))\n",
        "  ShowImg(Best.genes)  "
      ],
      "execution_count": null,
      "outputs": []
    },
    {
      "cell_type": "code",
      "metadata": {
        "id": "_ZOOLk2Kee5E"
      },
      "source": [
        "def fitnessFunc (Target,individual):\n",
        "  if len(Target)!=len(individual):\n",
        "    print(\"Error Genes not Eq\")\n",
        "  return np.sum(Target==individual)"
      ],
      "execution_count": null,
      "outputs": []
    },
    {
      "cell_type": "code",
      "metadata": {
        "id": "3FZLiGxdnVHG"
      },
      "source": [
        "def ShowImg(IMG):\n",
        "  IMG=[True if i==1 else False for i in IMG]\n",
        "  image=np.reshape(IMG,(P,P)).copy()\n",
        "  print(image.shape)\n",
        "  imshow(image)"
      ],
      "execution_count": null,
      "outputs": []
    },
    {
      "cell_type": "markdown",
      "metadata": {
        "id": "3c-LScAbafE_"
      },
      "source": [
        "###Hyper-Parameters "
      ]
    },
    {
      "cell_type": "code",
      "metadata": {
        "id": "CNMFKaxXxt_I"
      },
      "source": [
        "geneSet=[0,1]\n",
        "popSize=10\n",
        "maxGen=1000\n",
        "mutation_rate=0.05\n",
        "MatingNum=popSize/4 # Number of Mating Pairs"
      ],
      "execution_count": null,
      "outputs": []
    },
    {
      "cell_type": "markdown",
      "metadata": {
        "id": "w7P0VCfmndCo"
      },
      "source": [
        "Declarations"
      ]
    },
    {
      "cell_type": "code",
      "metadata": {
        "id": "pSv0GMEtne9U"
      },
      "source": [
        "gen=0\n",
        "genFit=[] # the Fittest in the generation\n",
        "MatingNum=int(MatingNum)*2 # Number of Breeders , Make Sure Its an Even Number \n",
        "Breeders=[]\n",
        "Mutants=[]\n",
        "GeneSet=[0,1]\n",
        "Target=np.reshape(binary,P*P)\n",
        "genPlot=[] # Plotting Generations"
      ],
      "execution_count": null,
      "outputs": []
    },
    {
      "cell_type": "markdown",
      "metadata": {
        "id": "GUpOIVmza1qK"
      },
      "source": [
        "###CODE:"
      ]
    },
    {
      "cell_type": "code",
      "metadata": {
        "id": "AirkHer-8RyE",
        "colab": {
          "base_uri": "https://localhost:8080/",
          "height": 315
        },
        "outputId": "bb0cf04d-da61-46ae-e757-d9b71e26d1fd"
      },
      "source": [
        "ShowImg(Target)"
      ],
      "execution_count": null,
      "outputs": [
        {
          "output_type": "stream",
          "text": [
            "(64, 64)\n"
          ],
          "name": "stdout"
        },
        {
          "output_type": "display_data",
          "data": {
            "image/png": "[encoded data removed]",
            "text/plain": [
              "<Figure size 432x288 with 1 Axes>"
            ]
          },
          "metadata": {
            "tags": [],
            "needs_background": "light"
          }
        }
      ]
    },
    {
      "cell_type": "markdown",
      "metadata": {
        "id": "tZMCuFPJ8ohD"
      },
      "source": [
        "####Population : 10"
      ]
    },
    {
      "cell_type": "markdown",
      "metadata": {
        "id": "YIdnAr6D4Ags"
      },
      "source": [
        "low Population , low Generation , Medium Replacement Speed : 51.8"
      ]
    },
    {
      "cell_type": "code",
      "metadata": {
        "colab": {
          "base_uri": "https://localhost:8080/",
          "height": 815
        },
        "id": "LWxLReQJ6a-Z",
        "outputId": "7efdbc9f-f9bf-4869-98b3-add7b639045d"
      },
      "source": [
        "popSize=10\n",
        "maxGen=1000\n",
        "MatingNum=popSize/4 # REPLACE Half of the Population \n",
        "MODEL(geneSet,popSize,maxGen,mutation_rate,MatingNum,Target)"
      ],
      "execution_count": null,
      "outputs": [
        {
          "output_type": "stream",
          "text": [
            "0\n",
            "100\n",
            "200\n",
            "300\n",
            "400\n",
            "500\n",
            "600\n",
            "700\n",
            "800\n",
            "900\n"
          ],
          "name": "stdout"
        },
        {
          "output_type": "display_data",
          "data": {
            "image/png": "[encoded data removed]",
            "text/plain": [
              "<Figure size 432x288 with 1 Axes>"
            ]
          },
          "metadata": {
            "tags": [],
            "needs_background": "light"
          }
        },
        {
          "output_type": "stream",
          "text": [
            "\n",
            " final Output : 2123 Ratio : 0.518310546875\n",
            "(64, 64)\n"
          ],
          "name": "stdout"
        },
        {
          "output_type": "display_data",
          "data": {
            "image/png": "[encoded data removed]",
            "text/plain": [
              "<Figure size 432x288 with 1 Axes>"
            ]
          },
          "metadata": {
            "tags": [],
            "needs_background": "light"
          }
        }
      ]
    },
    {
      "cell_type": "markdown",
      "metadata": {
        "id": "XQTq9fss9cW5"
      },
      "source": [
        "53.7"
      ]
    },
    {
      "cell_type": "code",
      "metadata": {
        "colab": {
          "base_uri": "https://localhost:8080/",
          "height": 815
        },
        "id": "kn8Mtrxb8brG",
        "outputId": "281c1326-947f-49dd-f110-856a1ac9037d"
      },
      "source": [
        "popSize=10\n",
        "maxGen=1000\n",
        "MatingNum=popSize/2 # REPLACE ALL of the Population \n",
        "MODEL(geneSet,popSize,maxGen,mutation_rate,MatingNum,Target)"
      ],
      "execution_count": null,
      "outputs": [
        {
          "output_type": "stream",
          "text": [
            "0\n",
            "100\n",
            "200\n",
            "300\n",
            "400\n",
            "500\n",
            "600\n",
            "700\n",
            "800\n",
            "900\n"
          ],
          "name": "stdout"
        },
        {
          "output_type": "display_data",
          "data": {
            "image/png": "[encoded data removed]",
            "text/plain": [
              "<Figure size 432x288 with 1 Axes>"
            ]
          },
          "metadata": {
            "tags": [],
            "needs_background": "light"
          }
        },
        {
          "output_type": "stream",
          "text": [
            "\n",
            " final Output : 2203 Ratio : 0.537841796875\n",
            "(64, 64)\n"
          ],
          "name": "stdout"
        },
        {
          "output_type": "display_data",
          "data": {
            "image/png": "[encoded data removed]",
            "text/plain": [
              "<Figure size 432x288 with 1 Axes>"
            ]
          },
          "metadata": {
            "tags": [],
            "needs_background": "light"
          }
        }
      ]
    },
    {
      "cell_type": "markdown",
      "metadata": {
        "id": "K5Ogj1uB9HDA"
      },
      "source": [
        "HIGHer Replacement : 55.3"
      ]
    },
    {
      "cell_type": "code",
      "metadata": {
        "colab": {
          "base_uri": "https://localhost:8080/",
          "height": 815
        },
        "id": "s70qqEV29L7c",
        "outputId": "168a9b99-c3bf-4f52-8163-d92fbb88d58b"
      },
      "source": [
        "popSize=10\n",
        "maxGen=1000\n",
        "MatingNum=popSize # REPLACE ALL of the Population \n",
        "MODEL(geneSet,popSize,maxGen,mutation_rate,MatingNum,Target)"
      ],
      "execution_count": null,
      "outputs": [
        {
          "output_type": "stream",
          "text": [
            "0\n",
            "100\n",
            "200\n",
            "300\n",
            "400\n",
            "500\n",
            "600\n",
            "700\n",
            "800\n",
            "900\n"
          ],
          "name": "stdout"
        },
        {
          "output_type": "display_data",
          "data": {
            "image/png": "[encoded data removed]",
            "text/plain": [
              "<Figure size 432x288 with 1 Axes>"
            ]
          },
          "metadata": {
            "tags": [],
            "needs_background": "light"
          }
        },
        {
          "output_type": "stream",
          "text": [
            "\n",
            " final Output : 2266 Ratio : 0.55322265625\n",
            "(64, 64)\n"
          ],
          "name": "stdout"
        },
        {
          "output_type": "display_data",
          "data": {
            "image/png": "[encoded data removed]",
            "text/plain": [
              "<Figure size 432x288 with 1 Axes>"
            ]
          },
          "metadata": {
            "tags": [],
            "needs_background": "light"
          }
        }
      ]
    },
    {
      "cell_type": "markdown",
      "metadata": {
        "id": "u_RNPLDu3w5F"
      },
      "source": [
        " 61.0"
      ]
    },
    {
      "cell_type": "code",
      "metadata": {
        "colab": {
          "base_uri": "https://localhost:8080/",
          "height": 1000
        },
        "id": "6t-s-VmoyCM3",
        "outputId": "319d899d-275c-4188-d639-765932043477"
      },
      "source": [
        "popSize=10\n",
        "maxGen= 10000\n",
        "MatingNum=popSize/4\n",
        "MODEL(geneSet,popSize,maxGen,mutation_rate,MatingNum,Target)"
      ],
      "execution_count": null,
      "outputs": [
        {
          "output_type": "stream",
          "text": [
            "0\n",
            "100\n",
            "200\n",
            "300\n",
            "400\n",
            "500\n",
            "600\n",
            "700\n",
            "800\n",
            "900\n",
            "1000\n",
            "1100\n",
            "1200\n",
            "1300\n",
            "1400\n",
            "1500\n",
            "1600\n",
            "1700\n",
            "1800\n",
            "1900\n",
            "2000\n",
            "2100\n",
            "2200\n",
            "2300\n",
            "2400\n",
            "2500\n",
            "2600\n",
            "2700\n",
            "2800\n",
            "2900\n",
            "3000\n",
            "3100\n",
            "3200\n",
            "3300\n",
            "3400\n",
            "3500\n",
            "3600\n",
            "3700\n",
            "3800\n",
            "3900\n",
            "4000\n",
            "4100\n",
            "4200\n",
            "4300\n",
            "4400\n",
            "4500\n",
            "4600\n",
            "4700\n",
            "4800\n",
            "4900\n",
            "5000\n",
            "5100\n",
            "5200\n",
            "5300\n",
            "5400\n",
            "5500\n",
            "5600\n",
            "5700\n",
            "5800\n",
            "5900\n",
            "6000\n",
            "6100\n",
            "6200\n",
            "6300\n",
            "6400\n",
            "6500\n",
            "6600\n",
            "6700\n",
            "6800\n",
            "6900\n",
            "7000\n",
            "7100\n",
            "7200\n",
            "7300\n",
            "7400\n",
            "7500\n",
            "7600\n",
            "7700\n",
            "7800\n",
            "7900\n",
            "8000\n",
            "8100\n",
            "8200\n",
            "8300\n",
            "8400\n",
            "8500\n",
            "8600\n",
            "8700\n",
            "8800\n",
            "8900\n",
            "9000\n",
            "9100\n",
            "9200\n",
            "9300\n",
            "9400\n",
            "9500\n",
            "9600\n",
            "9700\n",
            "9800\n",
            "9900\n"
          ],
          "name": "stdout"
        },
        {
          "output_type": "display_data",
          "data": {
            "image/png": "[encoded data removed]",
            "text/plain": [
              "<Figure size 432x288 with 1 Axes>"
            ]
          },
          "metadata": {
            "tags": [],
            "needs_background": "light"
          }
        },
        {
          "output_type": "stream",
          "text": [
            "\n",
            " final Output : 2500 Ratio : 0.6103515625\n",
            "(64, 64)\n"
          ],
          "name": "stdout"
        },
        {
          "output_type": "display_data",
          "data": {
            "image/png": "[encoded data removed]",
            "text/plain": [
              "<Figure size 432x288 with 1 Axes>"
            ]
          },
          "metadata": {
            "tags": [],
            "needs_background": "light"
          }
        }
      ]
    },
    {
      "cell_type": "markdown",
      "metadata": {
        "id": "ScxDZdEm-eSm"
      },
      "source": [
        "71.2"
      ]
    },
    {
      "cell_type": "code",
      "metadata": {
        "colab": {
          "base_uri": "https://localhost:8080/",
          "height": 1000
        },
        "id": "LFx3ebwR9wL3",
        "outputId": "7f7ef83b-e035-4ffa-c9b6-f0c291bd126f"
      },
      "source": [
        "popSize=10\n",
        "maxGen= 10000\n",
        "MatingNum=popSize/2\n",
        "MODEL(geneSet,popSize,maxGen,mutation_rate,MatingNum,Target)"
      ],
      "execution_count": null,
      "outputs": [
        {
          "output_type": "stream",
          "text": [
            "0\n",
            "100\n",
            "200\n",
            "300\n",
            "400\n",
            "500\n",
            "600\n",
            "700\n",
            "800\n",
            "900\n",
            "1000\n",
            "1100\n",
            "1200\n",
            "1300\n",
            "1400\n",
            "1500\n",
            "1600\n",
            "1700\n",
            "1800\n",
            "1900\n",
            "2000\n",
            "2100\n",
            "2200\n",
            "2300\n",
            "2400\n",
            "2500\n",
            "2600\n",
            "2700\n",
            "2800\n",
            "2900\n",
            "3000\n",
            "3100\n",
            "3200\n",
            "3300\n",
            "3400\n",
            "3500\n",
            "3600\n",
            "3700\n",
            "3800\n",
            "3900\n",
            "4000\n",
            "4100\n",
            "4200\n",
            "4300\n",
            "4400\n",
            "4500\n",
            "4600\n",
            "4700\n",
            "4800\n",
            "4900\n",
            "5000\n",
            "5100\n",
            "5200\n",
            "5300\n",
            "5400\n",
            "5500\n",
            "5600\n",
            "5700\n",
            "5800\n",
            "5900\n",
            "6000\n",
            "6100\n",
            "6200\n",
            "6300\n",
            "6400\n",
            "6500\n",
            "6600\n",
            "6700\n",
            "6800\n",
            "6900\n",
            "7000\n",
            "7100\n",
            "7200\n",
            "7300\n",
            "7400\n",
            "7500\n",
            "7600\n",
            "7700\n",
            "7800\n",
            "7900\n",
            "8000\n",
            "8100\n",
            "8200\n",
            "8300\n",
            "8400\n",
            "8500\n",
            "8600\n",
            "8700\n",
            "8800\n",
            "8900\n",
            "9000\n",
            "9100\n",
            "9200\n",
            "9300\n",
            "9400\n",
            "9500\n",
            "9600\n",
            "9700\n",
            "9800\n",
            "9900\n"
          ],
          "name": "stdout"
        },
        {
          "output_type": "display_data",
          "data": {
            "image/png": "[encoded data removed]",
            "text/plain": [
              "<Figure size 432x288 with 1 Axes>"
            ]
          },
          "metadata": {
            "tags": [],
            "needs_background": "light"
          }
        },
        {
          "output_type": "stream",
          "text": [
            "\n",
            " final Output : 2920 Ratio : 0.712890625\n",
            "(64, 64)\n"
          ],
          "name": "stdout"
        },
        {
          "output_type": "display_data",
          "data": {
            "image/png": "[encoded data removed]",
            "text/plain": [
              "<Figure size 432x288 with 1 Axes>"
            ]
          },
          "metadata": {
            "tags": [],
            "needs_background": "light"
          }
        }
      ]
    },
    {
      "cell_type": "markdown",
      "metadata": {
        "id": "v3UGiTD7YtPu"
      },
      "source": [
        "#### Population : 50 "
      ]
    },
    {
      "cell_type": "markdown",
      "metadata": {
        "id": "qTNU5dPRY7dX"
      },
      "source": [
        "#####Generations : 1000"
      ]
    },
    {
      "cell_type": "markdown",
      "metadata": {
        "id": "RQx0uAjuZTRt"
      },
      "source": [
        "55.8"
      ]
    },
    {
      "cell_type": "code",
      "metadata": {
        "colab": {
          "base_uri": "https://localhost:8080/",
          "height": 815
        },
        "id": "u7GbbiBBY4kO",
        "outputId": "f4c9987b-2f06-452a-cb2f-7119b9a883c7"
      },
      "source": [
        "popSize=50\n",
        "maxGen=1000\n",
        "MatingNum=popSize/2 *(1/2) #Replace Half of the Pop\n",
        "MODEL(geneSet,popSize,maxGen,mutation_rate,MatingNum,Target)"
      ],
      "execution_count": null,
      "outputs": [
        {
          "output_type": "stream",
          "text": [
            "0\n",
            "100\n",
            "200\n",
            "300\n",
            "400\n",
            "500\n",
            "600\n",
            "700\n",
            "800\n",
            "900\n"
          ],
          "name": "stdout"
        },
        {
          "output_type": "display_data",
          "data": {
            "image/png": "[encoded data removed]",
            "text/plain": [
              "<Figure size 432x288 with 1 Axes>"
            ]
          },
          "metadata": {
            "tags": [],
            "needs_background": "light"
          }
        },
        {
          "output_type": "stream",
          "text": [
            "\n",
            " final Output : 2287 Ratio : 0.558349609375\n",
            "(64, 64)\n"
          ],
          "name": "stdout"
        },
        {
          "output_type": "display_data",
          "data": {
            "image/png": "[encoded data removed]",
            "text/plain": [
              "<Figure size 432x288 with 1 Axes>"
            ]
          },
          "metadata": {
            "tags": [],
            "needs_background": "light"
          }
        }
      ]
    },
    {
      "cell_type": "markdown",
      "metadata": {
        "id": "cITI9-NtZsNd"
      },
      "source": [
        "58.4"
      ]
    },
    {
      "cell_type": "code",
      "metadata": {
        "colab": {
          "base_uri": "https://localhost:8080/",
          "height": 815
        },
        "id": "m1k5pP6MZed1",
        "outputId": "a0514ee6-8948-45a5-b674-33264d82cb74"
      },
      "source": [
        "popSize=50\n",
        "maxGen=1000\n",
        "MatingNum=popSize/2* (0.8) # Replace 80 percent of Population\n",
        "MODEL(geneSet,popSize,maxGen,mutation_rate,MatingNum,Target)"
      ],
      "execution_count": null,
      "outputs": [
        {
          "output_type": "stream",
          "text": [
            "0\n",
            "100\n",
            "200\n",
            "300\n",
            "400\n",
            "500\n",
            "600\n",
            "700\n",
            "800\n",
            "900\n"
          ],
          "name": "stdout"
        },
        {
          "output_type": "display_data",
          "data": {
            "image/png": "[encoded data removed]",
            "text/plain": [
              "<Figure size 432x288 with 1 Axes>"
            ]
          },
          "metadata": {
            "tags": [],
            "needs_background": "light"
          }
        },
        {
          "output_type": "stream",
          "text": [
            "\n",
            " final Output : 2395 Ratio : 0.584716796875\n",
            "(64, 64)\n"
          ],
          "name": "stdout"
        },
        {
          "output_type": "display_data",
          "data": {
            "image/png": "[encoded data removed]",
            "text/plain": [
              "<Figure size 432x288 with 1 Axes>"
            ]
          },
          "metadata": {
            "tags": [],
            "needs_background": "light"
          }
        }
      ]
    },
    {
      "cell_type": "markdown",
      "metadata": {
        "id": "ddl_xBh2ZcCq"
      },
      "source": [
        "60.2"
      ]
    },
    {
      "cell_type": "code",
      "metadata": {
        "colab": {
          "base_uri": "https://localhost:8080/",
          "height": 815
        },
        "id": "UqRHgGH7ZBNp",
        "outputId": "41070e74-5251-469f-eacc-e262ccb503cb"
      },
      "source": [
        "popSize=50\n",
        "maxGen=1000\n",
        "MatingNum=popSize/2\n",
        "MODEL(geneSet,popSize,maxGen,mutation_rate,MatingNum,Target)"
      ],
      "execution_count": null,
      "outputs": [
        {
          "output_type": "stream",
          "text": [
            "0\n",
            "100\n",
            "200\n",
            "300\n",
            "400\n",
            "500\n",
            "600\n",
            "700\n",
            "800\n",
            "900\n"
          ],
          "name": "stdout"
        },
        {
          "output_type": "display_data",
          "data": {
            "image/png": "[encoded data removed]",
            "text/plain": [
              "<Figure size 432x288 with 1 Axes>"
            ]
          },
          "metadata": {
            "tags": [],
            "needs_background": "light"
          }
        },
        {
          "output_type": "stream",
          "text": [
            "\n",
            " final Output : 2467 Ratio : 0.602294921875\n",
            "(64, 64)\n"
          ],
          "name": "stdout"
        },
        {
          "output_type": "display_data",
          "data": {
            "image/png": "[encoded data removed]",
            "text/plain": [
              "<Figure size 432x288 with 1 Axes>"
            ]
          },
          "metadata": {
            "tags": [],
            "needs_background": "light"
          }
        }
      ]
    },
    {
      "cell_type": "markdown",
      "metadata": {
        "id": "nEhjlDaXaDiV"
      },
      "source": [
        "#####Generations : 10000"
      ]
    },
    {
      "cell_type": "markdown",
      "metadata": {
        "id": "FPcbCkJ-cSAc"
      },
      "source": [
        "###### Replacement Rate : 50 %"
      ]
    },
    {
      "cell_type": "markdown",
      "metadata": {
        "id": "waVlzz2_aqqF"
      },
      "source": [
        "82.7"
      ]
    },
    {
      "cell_type": "code",
      "metadata": {
        "colab": {
          "base_uri": "https://localhost:8080/",
          "height": 1000
        },
        "id": "-nRJMrvvaKob",
        "outputId": "36399015-fa45-4706-dc85-fd46be6debd1"
      },
      "source": [
        "popSize=50\n",
        "maxGen=10000\n",
        "MatingNum=popSize/2 *(1/2) #Replace Half of the Pop\n",
        "MODEL(geneSet,popSize,maxGen,mutation_rate,MatingNum,Target)"
      ],
      "execution_count": null,
      "outputs": [
        {
          "output_type": "stream",
          "text": [
            "0\n",
            "100\n",
            "200\n",
            "300\n",
            "400\n",
            "500\n",
            "600\n",
            "700\n",
            "800\n",
            "900\n",
            "1000\n",
            "1100\n",
            "1200\n",
            "1300\n",
            "1400\n",
            "1500\n",
            "1600\n",
            "1700\n",
            "1800\n",
            "1900\n",
            "2000\n",
            "2100\n",
            "2200\n",
            "2300\n",
            "2400\n",
            "2500\n",
            "2600\n",
            "2700\n",
            "2800\n",
            "2900\n",
            "3000\n",
            "3100\n",
            "3200\n",
            "3300\n",
            "3400\n",
            "3500\n",
            "3600\n",
            "3700\n",
            "3800\n",
            "3900\n",
            "4000\n",
            "4100\n",
            "4200\n",
            "4300\n",
            "4400\n",
            "4500\n",
            "4600\n",
            "4700\n",
            "4800\n",
            "4900\n",
            "5000\n",
            "5100\n",
            "5200\n",
            "5300\n",
            "5400\n",
            "5500\n",
            "5600\n",
            "5700\n",
            "5800\n",
            "5900\n",
            "6000\n",
            "6100\n",
            "6200\n",
            "6300\n",
            "6400\n",
            "6500\n",
            "6600\n",
            "6700\n",
            "6800\n",
            "6900\n",
            "7000\n",
            "7100\n",
            "7200\n",
            "7300\n",
            "7400\n",
            "7500\n",
            "7600\n",
            "7700\n",
            "7800\n",
            "7900\n",
            "8000\n",
            "8100\n",
            "8200\n",
            "8300\n",
            "8400\n",
            "8500\n",
            "8600\n",
            "8700\n",
            "8800\n",
            "8900\n",
            "9000\n",
            "9100\n",
            "9200\n",
            "9300\n",
            "9400\n",
            "9500\n",
            "9600\n",
            "9700\n",
            "9800\n",
            "9900\n"
          ],
          "name": "stdout"
        },
        {
          "output_type": "display_data",
          "data": {
            "image/png": "[encoded data removed]",
            "text/plain": [
              "<Figure size 432x288 with 1 Axes>"
            ]
          },
          "metadata": {
            "tags": [],
            "needs_background": "light"
          }
        },
        {
          "output_type": "stream",
          "text": [
            "\n",
            " final Output : 3391 Ratio : 0.827880859375\n",
            "(64, 64)\n"
          ],
          "name": "stdout"
        },
        {
          "output_type": "display_data",
          "data": {
            "image/png": "[encoded data removed]",
            "text/plain": [
              "<Figure size 432x288 with 1 Axes>"
            ]
          },
          "metadata": {
            "tags": [],
            "needs_background": "light"
          }
        }
      ]
    },
    {
      "cell_type": "markdown",
      "metadata": {
        "id": "SvP7cdT9bstG"
      },
      "source": [
        "###### Replacement Rate : 80%"
      ]
    },
    {
      "cell_type": "markdown",
      "metadata": {
        "id": "SD9Tqq2vbyuF"
      },
      "source": [
        "92.4"
      ]
    },
    {
      "cell_type": "code",
      "metadata": {
        "colab": {
          "base_uri": "https://localhost:8080/",
          "height": 1000
        },
        "id": "zPfzOrVya0IY",
        "outputId": "127f5914-f444-4d4e-f8cb-a8518d9393ea"
      },
      "source": [
        "popSize=50\n",
        "maxGen=10000\n",
        "MatingNum=popSize/2 *(0.8) #Replace 80% of the Pop\n",
        "MODEL(geneSet,popSize,maxGen,mutation_rate,MatingNum,Target)"
      ],
      "execution_count": null,
      "outputs": [
        {
          "output_type": "stream",
          "text": [
            "0\n",
            "100\n",
            "200\n",
            "300\n",
            "400\n",
            "500\n",
            "600\n",
            "700\n",
            "800\n",
            "900\n",
            "1000\n",
            "1100\n",
            "1200\n",
            "1300\n",
            "1400\n",
            "1500\n",
            "1600\n",
            "1700\n",
            "1800\n",
            "1900\n",
            "2000\n",
            "2100\n",
            "2200\n",
            "2300\n",
            "2400\n",
            "2500\n",
            "2600\n",
            "2700\n",
            "2800\n",
            "2900\n",
            "3000\n",
            "3100\n",
            "3200\n",
            "3300\n",
            "3400\n",
            "3500\n",
            "3600\n",
            "3700\n",
            "3800\n",
            "3900\n",
            "4000\n",
            "4100\n",
            "4200\n",
            "4300\n",
            "4400\n",
            "4500\n",
            "4600\n",
            "4700\n",
            "4800\n",
            "4900\n",
            "5000\n",
            "5100\n",
            "5200\n",
            "5300\n",
            "5400\n",
            "5500\n",
            "5600\n",
            "5700\n",
            "5800\n",
            "5900\n",
            "6000\n",
            "6100\n",
            "6200\n",
            "6300\n",
            "6400\n",
            "6500\n",
            "6600\n",
            "6700\n",
            "6800\n",
            "6900\n",
            "7000\n",
            "7100\n",
            "7200\n",
            "7300\n",
            "7400\n",
            "7500\n",
            "7600\n",
            "7700\n",
            "7800\n",
            "7900\n",
            "8000\n",
            "8100\n",
            "8200\n",
            "8300\n",
            "8400\n",
            "8500\n",
            "8600\n",
            "8700\n",
            "8800\n",
            "8900\n",
            "9000\n",
            "9100\n",
            "9200\n",
            "9300\n",
            "9400\n",
            "9500\n",
            "9600\n",
            "9700\n",
            "9800\n",
            "9900\n"
          ],
          "name": "stdout"
        },
        {
          "output_type": "display_data",
          "data": {
            "image/png": "[encoded data removed]",
            "text/plain": [
              "<Figure size 432x288 with 1 Axes>"
            ]
          },
          "metadata": {
            "tags": [],
            "needs_background": "light"
          }
        },
        {
          "output_type": "stream",
          "text": [
            "\n",
            " final Output : 3785 Ratio : 0.924072265625\n",
            "(64, 64)\n"
          ],
          "name": "stdout"
        },
        {
          "output_type": "display_data",
          "data": {
            "image/png": "[encoded data removed]",
            "text/plain": [
              "<Figure size 432x288 with 1 Axes>"
            ]
          },
          "metadata": {
            "tags": [],
            "needs_background": "light"
          }
        }
      ]
    },
    {
      "cell_type": "markdown",
      "metadata": {
        "id": "ZBLHKLpCb9h9"
      },
      "source": [
        "###### Replacement Rate : 100 %"
      ]
    },
    {
      "cell_type": "markdown",
      "metadata": {
        "id": "Kf3ScjXJdEKC"
      },
      "source": [
        "95.4"
      ]
    },
    {
      "cell_type": "code",
      "metadata": {
        "colab": {
          "base_uri": "https://localhost:8080/",
          "height": 1000
        },
        "id": "F9kJQKJLb6Z2",
        "outputId": "9860a71d-9e93-42ac-fd44-d80afa8f715f"
      },
      "source": [
        "popSize=50\n",
        "maxGen=10000\n",
        "MatingNum=popSize/2 #Replace Half of the Pop\n",
        "MODEL(geneSet,popSize,maxGen,mutation_rate,MatingNum,Target)"
      ],
      "execution_count": null,
      "outputs": [
        {
          "output_type": "stream",
          "text": [
            "0\n",
            "100\n",
            "200\n",
            "300\n",
            "400\n",
            "500\n",
            "600\n",
            "700\n",
            "800\n",
            "900\n",
            "1000\n",
            "1100\n",
            "1200\n",
            "1300\n",
            "1400\n",
            "1500\n",
            "1600\n",
            "1700\n",
            "1800\n",
            "1900\n",
            "2000\n",
            "2100\n",
            "2200\n",
            "2300\n",
            "2400\n",
            "2500\n",
            "2600\n",
            "2700\n",
            "2800\n",
            "2900\n",
            "3000\n",
            "3100\n",
            "3200\n",
            "3300\n",
            "3400\n",
            "3500\n",
            "3600\n",
            "3700\n",
            "3800\n",
            "3900\n",
            "4000\n",
            "4100\n",
            "4200\n",
            "4300\n",
            "4400\n",
            "4500\n",
            "4600\n",
            "4700\n",
            "4800\n",
            "4900\n",
            "5000\n",
            "5100\n",
            "5200\n",
            "5300\n",
            "5400\n",
            "5500\n",
            "5600\n",
            "5700\n",
            "5800\n",
            "5900\n",
            "6000\n",
            "6100\n",
            "6200\n",
            "6300\n",
            "6400\n",
            "6500\n",
            "6600\n",
            "6700\n",
            "6800\n",
            "6900\n",
            "7000\n",
            "7100\n",
            "7200\n",
            "7300\n",
            "7400\n",
            "7500\n",
            "7600\n",
            "7700\n",
            "7800\n",
            "7900\n",
            "8000\n",
            "8100\n",
            "8200\n",
            "8300\n",
            "8400\n",
            "8500\n",
            "8600\n",
            "8700\n",
            "8800\n",
            "8900\n",
            "9000\n",
            "9100\n",
            "9200\n",
            "9300\n",
            "9400\n",
            "9500\n",
            "9600\n",
            "9700\n",
            "9800\n",
            "9900\n"
          ],
          "name": "stdout"
        },
        {
          "output_type": "display_data",
          "data": {
            "image/png": "[encoded data removed]",
            "text/plain": [
              "<Figure size 432x288 with 1 Axes>"
            ]
          },
          "metadata": {
            "tags": [],
            "needs_background": "light"
          }
        },
        {
          "output_type": "stream",
          "text": [
            "\n",
            " final Output : 3911 Ratio : 0.954833984375\n",
            "(64, 64)\n"
          ],
          "name": "stdout"
        },
        {
          "output_type": "display_data",
          "data": {
            "image/png": "[encoded data removed]",
            "text/plain": [
              "<Figure size 432x288 with 1 Axes>"
            ]
          },
          "metadata": {
            "tags": [],
            "needs_background": "light"
          }
        }
      ]
    },
    {
      "cell_type": "markdown",
      "metadata": {
        "id": "u_7JcZ-s8zG5"
      },
      "source": [
        "####Population 100"
      ]
    },
    {
      "cell_type": "markdown",
      "metadata": {
        "id": "QcaH-GCSUFxH"
      },
      "source": [
        "##### Generation : 1000"
      ]
    },
    {
      "cell_type": "markdown",
      "metadata": {
        "id": "8zx1hGcHbE7Q"
      },
      "source": [
        "###### Replacement Rate : 50%"
      ]
    },
    {
      "cell_type": "markdown",
      "metadata": {
        "id": "rYZALeD__cAp"
      },
      "source": [
        "51.4"
      ]
    },
    {
      "cell_type": "code",
      "metadata": {
        "colab": {
          "base_uri": "https://localhost:8080/",
          "height": 815
        },
        "id": "bZResxrm_-NQ",
        "outputId": "114d91b4-c726-488c-e371-803cdaa0d074"
      },
      "source": [
        "popSize=100\n",
        "maxGen=1000\n",
        "MatingNum=popSize/4\n",
        "MODEL(geneSet,popSize,maxGen,mutation_rate,MatingNum,Target)"
      ],
      "execution_count": null,
      "outputs": [
        {
          "output_type": "stream",
          "text": [
            "0\n",
            "100\n",
            "200\n",
            "300\n",
            "400\n",
            "500\n",
            "600\n",
            "700\n",
            "800\n",
            "900\n"
          ],
          "name": "stdout"
        },
        {
          "output_type": "display_data",
          "data": {
            "image/png": "[encoded data removed]",
            "text/plain": [
              "<Figure size 432x288 with 1 Axes>"
            ]
          },
          "metadata": {
            "tags": [],
            "needs_background": "light"
          }
        },
        {
          "output_type": "stream",
          "text": [
            "\n",
            " final Output : 2402 Ratio : 0.58642578125\n",
            "(64, 64)\n"
          ],
          "name": "stdout"
        },
        {
          "output_type": "display_data",
          "data": {
            "image/png": "[encoded data removed]",
            "text/plain": [
              "<Figure size 432x288 with 1 Axes>"
            ]
          },
          "metadata": {
            "tags": [],
            "needs_background": "light"
          }
        }
      ]
    },
    {
      "cell_type": "markdown",
      "metadata": {
        "id": "jY5-1C4dbNEh"
      },
      "source": [
        "######Replacement Rate : 100 %"
      ]
    },
    {
      "cell_type": "markdown",
      "metadata": {
        "id": "52MvOHFW_ZAl"
      },
      "source": [
        "62.8"
      ]
    },
    {
      "cell_type": "code",
      "metadata": {
        "colab": {
          "base_uri": "https://localhost:8080/",
          "height": 815
        },
        "id": "5QpasR4z-ly1",
        "outputId": "c092ad41-8ee5-48b5-95a8-c9aa8da38a79"
      },
      "source": [
        "popSize=100\n",
        "maxGen=1000\n",
        "MatingNum=popSize/2\n",
        "MODEL(geneSet,popSize,maxGen,mutation_rate,MatingNum,Target)"
      ],
      "execution_count": null,
      "outputs": [
        {
          "output_type": "stream",
          "text": [
            "0\n",
            "100\n",
            "200\n",
            "300\n",
            "400\n",
            "500\n",
            "600\n",
            "700\n",
            "800\n",
            "900\n"
          ],
          "name": "stdout"
        },
        {
          "output_type": "display_data",
          "data": {
            "image/png": "[encoded data removed]",
            "text/plain": [
              "<Figure size 432x288 with 1 Axes>"
            ]
          },
          "metadata": {
            "tags": [],
            "needs_background": "light"
          }
        },
        {
          "output_type": "stream",
          "text": [
            "\n",
            " final Output : 2576 Ratio : 0.62890625\n",
            "(64, 64)\n"
          ],
          "name": "stdout"
        },
        {
          "output_type": "display_data",
          "data": {
            "image/png": "[encoded data removed]",
            "text/plain": [
              "<Figure size 432x288 with 1 Axes>"
            ]
          },
          "metadata": {
            "tags": [],
            "needs_background": "light"
          }
        }
      ]
    },
    {
      "cell_type": "markdown",
      "metadata": {
        "id": "zHSkazyaURif"
      },
      "source": [
        "##### Generation 10000"
      ]
    },
    {
      "cell_type": "markdown",
      "metadata": {
        "id": "luHeHkhVQYmT"
      },
      "source": [
        "###### Replacement Rate : 50%"
      ]
    },
    {
      "cell_type": "markdown",
      "metadata": {
        "id": "BxjtbdLZ6zFG"
      },
      "source": [
        "92.8"
      ]
    },
    {
      "cell_type": "code",
      "metadata": {
        "colab": {
          "base_uri": "https://localhost:8080/",
          "height": 1000
        },
        "id": "TShBv2_TOwxI",
        "outputId": "b2851fcb-92d7-4e2c-9453-affaaf58558e"
      },
      "source": [
        "popSize=100\n",
        "maxGen= 10000\n",
        "MatingNum=popSize/4\n",
        "MODEL(geneSet,popSize,maxGen,mutation_rate,MatingNum,Target)"
      ],
      "execution_count": null,
      "outputs": [
        {
          "output_type": "stream",
          "text": [
            "0\n",
            "100\n",
            "200\n",
            "300\n",
            "400\n",
            "500\n",
            "600\n",
            "700\n",
            "800\n",
            "900\n",
            "1000\n",
            "1100\n",
            "1200\n",
            "1300\n",
            "1400\n",
            "1500\n",
            "1600\n",
            "1700\n",
            "1800\n",
            "1900\n",
            "2000\n",
            "2100\n",
            "2200\n",
            "2300\n",
            "2400\n",
            "2500\n",
            "2600\n",
            "2700\n",
            "2800\n",
            "2900\n",
            "3000\n",
            "3100\n",
            "3200\n",
            "3300\n",
            "3400\n",
            "3500\n",
            "3600\n",
            "3700\n",
            "3800\n",
            "3900\n",
            "4000\n",
            "4100\n",
            "4200\n",
            "4300\n",
            "4400\n",
            "4500\n",
            "4600\n",
            "4700\n",
            "4800\n",
            "4900\n",
            "5000\n",
            "5100\n",
            "5200\n",
            "5300\n",
            "5400\n",
            "5500\n",
            "5600\n",
            "5700\n",
            "5800\n",
            "5900\n",
            "6000\n",
            "6100\n",
            "6200\n",
            "6300\n",
            "6400\n",
            "6500\n",
            "6600\n",
            "6700\n",
            "6800\n",
            "6900\n",
            "7000\n",
            "7100\n",
            "7200\n",
            "7300\n",
            "7400\n",
            "7500\n",
            "7600\n",
            "7700\n",
            "7800\n",
            "7900\n",
            "8000\n",
            "8100\n",
            "8200\n",
            "8300\n",
            "8400\n",
            "8500\n",
            "8600\n",
            "8700\n",
            "8800\n",
            "8900\n",
            "9000\n",
            "9100\n",
            "9200\n",
            "9300\n",
            "9400\n",
            "9500\n",
            "9600\n",
            "9700\n",
            "9800\n",
            "9900\n"
          ],
          "name": "stdout"
        },
        {
          "output_type": "display_data",
          "data": {
            "image/png": "[encoded data removed]",
            "text/plain": [
              "<Figure size 432x288 with 1 Axes>"
            ]
          },
          "metadata": {
            "tags": [],
            "needs_background": "light"
          }
        },
        {
          "output_type": "stream",
          "text": [
            "\n",
            " final Output : 3804 Ratio : 0.9287109375\n",
            "(64, 64)\n"
          ],
          "name": "stdout"
        },
        {
          "output_type": "display_data",
          "data": {
            "image/png": "[encoded data removed]",
            "text/plain": [
              "<Figure size 432x288 with 1 Axes>"
            ]
          },
          "metadata": {
            "tags": [],
            "needs_background": "light"
          }
        }
      ]
    },
    {
      "cell_type": "markdown",
      "metadata": {
        "id": "scGFfGuOdzle"
      },
      "source": [
        "###### Repalcement Rate ; 80 %"
      ]
    },
    {
      "cell_type": "markdown",
      "metadata": {
        "id": "qpuQ5ecf6KqJ"
      },
      "source": [
        "98.5"
      ]
    },
    {
      "cell_type": "code",
      "metadata": {
        "colab": {
          "base_uri": "https://localhost:8080/",
          "height": 1000
        },
        "id": "W7NkB9EOd5Bo",
        "outputId": "ae370c71-66d2-46f2-bd31-2615640c883b"
      },
      "source": [
        "popSize=100\n",
        "maxGen= 10000\n",
        "MatingNum=(popSize/2)*(0.8)\n",
        "MODEL(geneSet,popSize,maxGen,mutation_rate,MatingNum,Target)"
      ],
      "execution_count": null,
      "outputs": [
        {
          "output_type": "stream",
          "text": [
            "0\n",
            "100\n",
            "200\n",
            "300\n",
            "400\n",
            "500\n",
            "600\n",
            "700\n",
            "800\n",
            "900\n",
            "1000\n",
            "1100\n",
            "1200\n",
            "1300\n",
            "1400\n",
            "1500\n",
            "1600\n",
            "1700\n",
            "1800\n",
            "1900\n",
            "2000\n",
            "2100\n",
            "2200\n",
            "2300\n",
            "2400\n",
            "2500\n",
            "2600\n",
            "2700\n",
            "2800\n",
            "2900\n",
            "3000\n",
            "3100\n",
            "3200\n",
            "3300\n",
            "3400\n",
            "3500\n",
            "3600\n",
            "3700\n",
            "3800\n",
            "3900\n",
            "4000\n",
            "4100\n",
            "4200\n",
            "4300\n",
            "4400\n",
            "4500\n",
            "4600\n",
            "4700\n",
            "4800\n",
            "4900\n",
            "5000\n",
            "5100\n",
            "5200\n",
            "5300\n",
            "5400\n",
            "5500\n",
            "5600\n",
            "5700\n",
            "5800\n",
            "5900\n",
            "6000\n",
            "6100\n",
            "6200\n",
            "6300\n",
            "6400\n",
            "6500\n",
            "6600\n",
            "6700\n",
            "6800\n",
            "6900\n",
            "7000\n",
            "7100\n",
            "7200\n",
            "7300\n",
            "7400\n",
            "7500\n",
            "7600\n",
            "7700\n",
            "7800\n",
            "7900\n",
            "8000\n",
            "8100\n",
            "8200\n",
            "8300\n",
            "8400\n",
            "8500\n",
            "8600\n",
            "8700\n",
            "8800\n",
            "8900\n",
            "9000\n",
            "9100\n",
            "9200\n",
            "9300\n",
            "9400\n",
            "9500\n",
            "9600\n",
            "9700\n",
            "9800\n",
            "9900\n"
          ],
          "name": "stdout"
        },
        {
          "output_type": "display_data",
          "data": {
            "image/png": "[encoded data removed]",
            "text/plain": [
              "<Figure size 432x288 with 1 Axes>"
            ]
          },
          "metadata": {
            "tags": [],
            "needs_background": "light"
          }
        },
        {
          "output_type": "stream",
          "text": [
            "\n",
            " final Output : 4036 Ratio : 0.9853515625\n",
            "(64, 64)\n"
          ],
          "name": "stdout"
        },
        {
          "output_type": "display_data",
          "data": {
            "image/png": "[encoded data removed]",
            "text/plain": [
              "<Figure size 432x288 with 1 Axes>"
            ]
          },
          "metadata": {
            "tags": [],
            "needs_background": "light"
          }
        }
      ]
    },
    {
      "cell_type": "markdown",
      "metadata": {
        "id": "NLS1-UQRddbk"
      },
      "source": [
        "######Replacement Rate : 100 %"
      ]
    },
    {
      "cell_type": "markdown",
      "metadata": {
        "id": "eb5EkugAYnBT"
      },
      "source": [
        "99.6"
      ]
    },
    {
      "cell_type": "code",
      "metadata": {
        "id": "MBlht_Si47vX",
        "colab": {
          "base_uri": "https://localhost:8080/",
          "height": 1000
        },
        "outputId": "bf21e7cc-c721-45bc-d80c-3cd83a7d53db"
      },
      "source": [
        "popSize=100\n",
        "maxGen= 10000\n",
        "MatingNum=popSize/2 \n",
        "MODEL(geneSet,popSize,maxGen,mutation_rate,MatingNum,Target)"
      ],
      "execution_count": null,
      "outputs": [
        {
          "output_type": "stream",
          "text": [
            "0\n",
            "100\n",
            "200\n",
            "300\n",
            "400\n",
            "500\n",
            "600\n",
            "700\n",
            "800\n",
            "900\n",
            "1000\n",
            "1100\n",
            "1200\n",
            "1300\n",
            "1400\n",
            "1500\n",
            "1600\n",
            "1700\n",
            "1800\n",
            "1900\n",
            "2000\n",
            "2100\n",
            "2200\n",
            "2300\n",
            "2400\n",
            "2500\n",
            "2600\n",
            "2700\n",
            "2800\n",
            "2900\n",
            "3000\n",
            "3100\n",
            "3200\n",
            "3300\n",
            "3400\n",
            "3500\n",
            "3600\n",
            "3700\n",
            "3800\n",
            "3900\n",
            "4000\n",
            "4100\n",
            "4200\n",
            "4300\n",
            "4400\n",
            "4500\n",
            "4600\n",
            "4700\n",
            "4800\n",
            "4900\n",
            "5000\n",
            "5100\n",
            "5200\n",
            "5300\n",
            "5400\n",
            "5500\n",
            "5600\n",
            "5700\n",
            "5800\n",
            "5900\n",
            "6000\n",
            "6100\n",
            "6200\n",
            "6300\n",
            "6400\n",
            "6500\n",
            "6600\n",
            "6700\n",
            "6800\n",
            "6900\n",
            "7000\n",
            "7100\n",
            "7200\n",
            "7300\n",
            "7400\n",
            "7500\n",
            "7600\n",
            "7700\n",
            "7800\n",
            "7900\n",
            "8000\n",
            "8100\n",
            "8200\n",
            "8300\n",
            "8400\n",
            "8500\n",
            "8600\n",
            "8700\n",
            "8800\n",
            "8900\n",
            "9000\n",
            "9100\n",
            "9200\n",
            "9300\n",
            "9400\n",
            "9500\n",
            "9600\n",
            "9700\n",
            "9800\n",
            "9900\n"
          ],
          "name": "stdout"
        },
        {
          "output_type": "display_data",
          "data": {
            "image/png": "[encoded data removed]",
            "text/plain": [
              "<Figure size 432x288 with 1 Axes>"
            ]
          },
          "metadata": {
            "tags": [],
            "needs_background": "light"
          }
        },
        {
          "output_type": "stream",
          "text": [
            "\n",
            " final Output : 4082 Ratio : 0.99658203125\n",
            "(64, 64)\n"
          ],
          "name": "stdout"
        },
        {
          "output_type": "display_data",
          "data": {
            "image/png": "[encoded data removed]",
            "text/plain": [
              "<Figure size 432x288 with 1 Axes>"
            ]
          },
          "metadata": {
            "tags": [],
            "needs_background": "light"
          }
        }
      ]
    },
    {
      "cell_type": "markdown",
      "metadata": {
        "id": "vW1Ywt2UVyzw"
      },
      "source": [
        "##GrayScale"
      ]
    },
    {
      "cell_type": "markdown",
      "metadata": {
        "id": "ZHnw5p__qROu"
      },
      "source": [
        "###Functions"
      ]
    },
    {
      "cell_type": "code",
      "metadata": {
        "id": "Q0vH1tGrqPaE"
      },
      "source": [
        "def MODEL(geneSet,popSize,maxGen,mutation_rate,MatingNum,Target) :\n",
        "  gen=0\n",
        "  genFit=[] # the Fittest in the generation\n",
        "  MatingNum=int(MatingNum)*2 # Number of Breeders\n",
        "  Breeders=[]\n",
        "  Mutants=[]\n",
        "  GeneSet=geneSet\n",
        "  \n",
        "  genPlot=[] # Plotting Generations\n",
        "\n",
        "\n",
        "  Population=InitPop(popSize,Target.size,geneSet,Target)\n",
        "  Weights=getWeights(Population)\n",
        "\n",
        "\n",
        "  while gen < maxGen :\n",
        "  \n",
        "    Breeders=copy.copy(np.random.choice(Population, MatingNum,\n",
        "                           p=Weights))\n",
        "    Children=Breed(Breeders,Target)\n",
        "    #print()\n",
        "    for c in Children :\n",
        "      Mutants=np.random.choice([c]+[False],1,p=[mutation_rate,0.95])\n",
        "      if Mutants.any():\n",
        "        mutate(Mutants,GeneSet,Target)\n",
        "    Population=Population+Children\n",
        "    Weights=getWeights(Population)\n",
        "    Weights=Eugenics(Population,Weights,popSize)\n",
        "    if gen%10==0:\n",
        "      Best=Population[getBest(Weights)]\n",
        "    \n",
        "      genPlot.append(gen)\n",
        "      genFit.append(Best.fitness)\n",
        "    if gen%100==0 :\n",
        "      print(gen)\n",
        "  #  if gen%2000==0 and gen != 0:\n",
        "  #    ShowImg(Best.genes)\n",
        "    gen+=1\n",
        "  Plot(genPlot,genFit,popSize)\n",
        "  print(\"\\n final Output :\",Best.fitness,\"Ratio :\",Best.fitness/len(Target))\n",
        "  ShowImg(Best.genes)  \n",
        "  return Best"
      ],
      "execution_count": 17,
      "outputs": []
    },
    {
      "cell_type": "code",
      "metadata": {
        "id": "fqLX1JTJUe9w"
      },
      "source": [
        "def fitnessFunc (Target,individual):\n",
        "  if len(Target)!=len(individual):\n",
        "    print(\"Error Genes not Eq\")\n",
        "  return np.sum(Target==individual)"
      ],
      "execution_count": 18,
      "outputs": []
    },
    {
      "cell_type": "code",
      "metadata": {
        "id": "JHD7QE78qb81"
      },
      "source": [
        "def ShowImg(IMG):\n",
        "  image=np.array(IMG)\n",
        "  \n",
        "  image = exposure.rescale_intensity(image, in_range='uint8')\n",
        "  image=img_as_uint(image)\n",
        "  image=np.reshape(image,(P,P)).copy()\n",
        "  \n",
        "  print(image.shape)\n",
        "  imshow(image)"
      ],
      "execution_count": 58,
      "outputs": []
    },
    {
      "cell_type": "markdown",
      "metadata": {
        "id": "D4BKU6J12dgC"
      },
      "source": [
        "####Hyper-Parameters"
      ]
    },
    {
      "cell_type": "code",
      "metadata": {
        "id": "Y3DaQ5582gfY"
      },
      "source": [
        "geneSet=range(0,256)\n",
        "popSize=10\n",
        "maxGen=1000\n",
        "mutation_rate=0.05\n",
        "MatingNum=popSize/4 # Number of Mating Pairs"
      ],
      "execution_count": 20,
      "outputs": []
    },
    {
      "cell_type": "markdown",
      "metadata": {
        "id": "x3A0fF5s6i4g"
      },
      "source": [
        "####Declarations"
      ]
    },
    {
      "cell_type": "code",
      "metadata": {
        "id": "Fb2yNREk6mlR"
      },
      "source": [
        "gen=0\n",
        "genFit=[] # the Fittest in the generation\n",
        "MatingNum=int(MatingNum)*2 # Number of Breeders , Make Sure Its an Even Number \n",
        "Breeders=[]\n",
        "Mutants=[]\n",
        "Target=np.reshape(gray,P*P)\n",
        "genPlot=[] # Plotting Generations"
      ],
      "execution_count": 60,
      "outputs": []
    },
    {
      "cell_type": "markdown",
      "metadata": {
        "id": "9P6MX5i86nLp"
      },
      "source": [
        "###Code"
      ]
    },
    {
      "cell_type": "code",
      "metadata": {
        "colab": {
          "base_uri": "https://localhost:8080/",
          "height": 315
        },
        "id": "-6KpUMqs6oGO",
        "outputId": "cff622bd-c591-41d2-b21c-16668e6b5386"
      },
      "source": [
        "ShowImg(Target)"
      ],
      "execution_count": 61,
      "outputs": [
        {
          "output_type": "stream",
          "text": [
            "(64, 64)\n"
          ],
          "name": "stdout"
        },
        {
          "output_type": "display_data",
          "data": {
            "image/png": "[encoded data removed]",
            "text/plain": [
              "<Figure size 432x288 with 1 Axes>"
            ]
          },
          "metadata": {
            "tags": [],
            "needs_background": "light"
          }
        }
      ]
    },
    {
      "cell_type": "code",
      "metadata": {
        "colab": {
          "base_uri": "https://localhost:8080/",
          "height": 1000
        },
        "id": "05kzIWim7KSa",
        "outputId": "b4f59fe9-5f79-40a3-cde5-daa350cc1ff4"
      },
      "source": [
        "popSize=100\n",
        "maxGen=10000\n",
        "MatingNum=popSize/2*(0.8)  # REPLACE 80% of the Population \n",
        "MODEL(geneSet,popSize,maxGen,mutation_rate,MatingNum,Target)"
      ],
      "execution_count": 24,
      "outputs": [
        {
          "output_type": "stream",
          "text": [
            "0\n",
            "100\n",
            "200\n",
            "300\n",
            "400\n",
            "500\n",
            "600\n",
            "700\n",
            "800\n",
            "900\n",
            "1000\n",
            "1100\n",
            "1200\n",
            "1300\n",
            "1400\n",
            "1500\n",
            "1600\n",
            "1700\n",
            "1800\n",
            "1900\n",
            "2000\n",
            "2100\n",
            "2200\n",
            "2300\n",
            "2400\n",
            "2500\n",
            "2600\n",
            "2700\n",
            "2800\n",
            "2900\n",
            "3000\n",
            "3100\n",
            "3200\n",
            "3300\n",
            "3400\n",
            "3500\n",
            "3600\n",
            "3700\n",
            "3800\n",
            "3900\n",
            "4000\n",
            "4100\n",
            "4200\n",
            "4300\n",
            "4400\n",
            "4500\n",
            "4600\n",
            "4700\n",
            "4800\n",
            "4900\n",
            "5000\n",
            "5100\n",
            "5200\n",
            "5300\n",
            "5400\n",
            "5500\n",
            "5600\n",
            "5700\n",
            "5800\n",
            "5900\n",
            "6000\n",
            "6100\n",
            "6200\n",
            "6300\n",
            "6400\n",
            "6500\n",
            "6600\n",
            "6700\n",
            "6800\n",
            "6900\n",
            "7000\n",
            "7100\n",
            "7200\n",
            "7300\n",
            "7400\n",
            "7500\n",
            "7600\n",
            "7700\n",
            "7800\n",
            "7900\n",
            "8000\n",
            "8100\n",
            "8200\n",
            "8300\n",
            "8400\n",
            "8500\n",
            "8600\n",
            "8700\n",
            "8800\n",
            "8900\n",
            "9000\n",
            "9100\n",
            "9200\n",
            "9300\n",
            "9400\n",
            "9500\n",
            "9600\n",
            "9700\n",
            "9800\n",
            "9900\n"
          ],
          "name": "stdout"
        },
        {
          "output_type": "display_data",
          "data": {
            "image/png": "[encoded data removed]",
            "text/plain": [
              "<Figure size 432x288 with 1 Axes>"
            ]
          },
          "metadata": {
            "tags": [],
            "needs_background": "light"
          }
        },
        {
          "output_type": "stream",
          "text": [
            "\n",
            " final Output : 192 Ratio : 0.046875\n",
            "(64, 64)\n"
          ],
          "name": "stdout"
        },
        {
          "output_type": "execute_result",
          "data": {
            "text/plain": [
              "<__main__.chromosome at 0x7f318b6e3d50>"
            ]
          },
          "metadata": {
            "tags": []
          },
          "execution_count": 24
        },
        {
          "output_type": "display_data",
          "data": {
            "image/png": "[encoded data removed]",
            "text/plain": [
              "<Figure size 432x288 with 1 Axes>"
            ]
          },
          "metadata": {
            "tags": [],
            "needs_background": "light"
          }
        }
      ]
    },
    {
      "cell_type": "markdown",
      "metadata": {
        "id": "f3ynnLsZfrbX"
      },
      "source": [
        "**Previous Fitness Function Doesnt Work as well because now we have (64 \\* 64)\\*256 genes which requires much more resources and time for the same performance but on the other hand we doesnt care as much about pixels being exactly equal**"
      ]
    },
    {
      "cell_type": "markdown",
      "metadata": {
        "id": "Q8s_kzO8hkeQ"
      },
      "source": [
        "###Alternarive Functions"
      ]
    },
    {
      "cell_type": "code",
      "metadata": {
        "id": "uWr2hxwiSk4D"
      },
      "source": [
        "def fitnessFunc (Target,individual):\n",
        "  if len(Target)!=len(individual):\n",
        "    print(\"Error Genes not Eq\")\n",
        "  return np.array(Target).sum()-np.absolute(np.subtract(Target,individual)).sum()"
      ],
      "execution_count": 25,
      "outputs": []
    },
    {
      "cell_type": "code",
      "metadata": {
        "id": "ftbKaLdPoRu3"
      },
      "source": [
        "def MODEL(geneSet,popSize,maxGen,mutation_rate,MatingNum,Target) :\n",
        "  gen=0\n",
        "  genFit=[] # the Fittest in the generation\n",
        "  MatingNum=int(MatingNum)*2 # Number of Breeders\n",
        "  Breeders=[]\n",
        "  Mutants=[]\n",
        "  GeneSet=geneSet\n",
        "  \n",
        "  genPlot=[] # Plotting Generations\n",
        "\n",
        "\n",
        "  Population=InitPop(popSize,Target.size,geneSet,Target)\n",
        "  Weights=getWeights(Population)\n",
        "\n",
        "\n",
        "  while gen < maxGen :\n",
        "  \n",
        "    Breeders=copy.copy(np.random.choice(Population, MatingNum,\n",
        "                           p=Weights))\n",
        "    Children=Breed(Breeders,Target)\n",
        "    #print()\n",
        "    for c in Children :\n",
        "      Mutants=np.random.choice([c]+[False],1,p=[mutation_rate,0.95])\n",
        "      if Mutants.any():\n",
        "        mutate(Mutants,GeneSet,Target)\n",
        "    Population=Population+Children\n",
        "    Weights=getWeights(Population)\n",
        "    Weights=Eugenics(Population,Weights,popSize)\n",
        "    if gen%10==0:\n",
        "      Best=Population[getBest(Weights)]\n",
        "    \n",
        "      genPlot.append(gen)\n",
        "      genFit.append(Best.fitness)\n",
        "    if gen%100==0 :\n",
        "      print(gen)\n",
        "  #  if gen%2000==0 and gen != 0:\n",
        "  #    ShowImg(Best.genes)\n",
        "    gen+=1\n",
        "  Plot(genPlot,genFit,popSize)\n",
        "  print(\"\\n final Output :\",Best.fitness,\"Ratio :\",Best.fitness/np.array(Target).sum())\n",
        "  ShowImg(Best.genes)  \n",
        "  return Best"
      ],
      "execution_count": 26,
      "outputs": []
    },
    {
      "cell_type": "code",
      "metadata": {
        "colab": {
          "base_uri": "https://localhost:8080/",
          "height": 1000
        },
        "id": "jLv5NN9YkYI8",
        "outputId": "32e77de2-fe11-4ed0-b9c2-dd68642cbafb"
      },
      "source": [
        "popSize=100\n",
        "maxGen=10000\n",
        "MatingNum=(popSize/2)*(0.8) # REPLACE 80% of the Population \n",
        "MODEL(geneSet,popSize,maxGen,mutation_rate,MatingNum,Target)"
      ],
      "execution_count": 27,
      "outputs": [
        {
          "output_type": "stream",
          "text": [
            "0\n",
            "100\n",
            "200\n",
            "300\n",
            "400\n",
            "500\n",
            "600\n",
            "700\n",
            "800\n",
            "900\n",
            "1000\n",
            "1100\n",
            "1200\n",
            "1300\n",
            "1400\n",
            "1500\n",
            "1600\n",
            "1700\n",
            "1800\n",
            "1900\n",
            "2000\n",
            "2100\n",
            "2200\n",
            "2300\n",
            "2400\n",
            "2500\n",
            "2600\n",
            "2700\n",
            "2800\n",
            "2900\n",
            "3000\n",
            "3100\n",
            "3200\n",
            "3300\n",
            "3400\n",
            "3500\n",
            "3600\n",
            "3700\n",
            "3800\n",
            "3900\n",
            "4000\n",
            "4100\n",
            "4200\n",
            "4300\n",
            "4400\n",
            "4500\n",
            "4600\n",
            "4700\n",
            "4800\n",
            "4900\n",
            "5000\n",
            "5100\n",
            "5200\n",
            "5300\n",
            "5400\n",
            "5500\n",
            "5600\n",
            "5700\n",
            "5800\n",
            "5900\n",
            "6000\n",
            "6100\n",
            "6200\n",
            "6300\n",
            "6400\n",
            "6500\n",
            "6600\n",
            "6700\n",
            "6800\n",
            "6900\n",
            "7000\n",
            "7100\n",
            "7200\n",
            "7300\n",
            "7400\n",
            "7500\n",
            "7600\n",
            "7700\n",
            "7800\n",
            "7900\n",
            "8000\n",
            "8100\n",
            "8200\n",
            "8300\n",
            "8400\n",
            "8500\n",
            "8600\n",
            "8700\n",
            "8800\n",
            "8900\n",
            "9000\n",
            "9100\n",
            "9200\n",
            "9300\n",
            "9400\n",
            "9500\n",
            "9600\n",
            "9700\n",
            "9800\n",
            "9900\n"
          ],
          "name": "stdout"
        },
        {
          "output_type": "display_data",
          "data": {
            "image/png": "[encoded data removed]",
            "text/plain": [
              "<Figure size 432x288 with 1 Axes>"
            ]
          },
          "metadata": {
            "tags": [],
            "needs_background": "light"
          }
        },
        {
          "output_type": "stream",
          "text": [
            "\n",
            " final Output : 429342.0 Ratio : 0.8248597990789679\n",
            "(64, 64)\n"
          ],
          "name": "stdout"
        },
        {
          "output_type": "execute_result",
          "data": {
            "text/plain": [
              "<__main__.chromosome at 0x7f318b577550>"
            ]
          },
          "metadata": {
            "tags": []
          },
          "execution_count": 27
        },
        {
          "output_type": "display_data",
          "data": {
            "image/png": "[encoded data removed]",
            "text/plain": [
              "<Figure size 432x288 with 1 Axes>"
            ]
          },
          "metadata": {
            "tags": [],
            "needs_background": "light"
          }
        }
      ]
    },
    {
      "cell_type": "code",
      "metadata": {
        "id": "RYB4k88KllZA"
      },
      "source": [
        ""
      ],
      "execution_count": null,
      "outputs": []
    },
    {
      "cell_type": "markdown",
      "metadata": {
        "id": "NTo8ILqsuEpL"
      },
      "source": [
        "##RGB"
      ]
    },
    {
      "cell_type": "markdown",
      "metadata": {
        "id": "TfOg2uVE2KCk"
      },
      "source": [
        "###Functions"
      ]
    },
    {
      "cell_type": "code",
      "metadata": {
        "id": "Rx_Unzn46FX9"
      },
      "source": [
        "def fitnessFunc (Target,individual):\n",
        "  if len(Target)!=len(individual):\n",
        "    print(\"Error Genes not Eq\")\n",
        "  return np.array(Target).sum()-np.absolute(np.subtract(Target,individual)).sum()"
      ],
      "execution_count": 62,
      "outputs": []
    },
    {
      "cell_type": "code",
      "metadata": {
        "id": "Sd9Ts0Lj6KI8"
      },
      "source": [
        "def MODEL(geneSet,popSize,maxGen,mutation_rate,MatingNum,Target) :\n",
        "  gen=0\n",
        "  genFit=[] # the Fittest in the generation\n",
        "  MatingNum=int(MatingNum)*2 # Number of Breeders\n",
        "  Breeders=[]\n",
        "  Mutants=[]\n",
        "  GeneSet=geneSet\n",
        "  \n",
        "  genPlot=[] # Plotting Generations\n",
        "\n",
        "\n",
        "  Population=InitPop(popSize,Target.size,geneSet,Target)\n",
        "  Weights=getWeights(Population)\n",
        "\n",
        "\n",
        "  while gen < maxGen :\n",
        "  \n",
        "    Breeders=copy.copy(np.random.choice(Population, MatingNum,\n",
        "                           p=Weights))\n",
        "    Children=Breed(Breeders,Target)\n",
        "    #print()\n",
        "    for c in Children :\n",
        "      Mutants=np.random.choice([c]+[False],1,p=[mutation_rate,0.95])\n",
        "      if Mutants.any():\n",
        "        mutate(Mutants,GeneSet,Target)\n",
        "    Population=Population+Children\n",
        "    Weights=getWeights(Population)\n",
        "    Weights=Eugenics(Population,Weights,popSize)\n",
        "    if gen%10==0:\n",
        "      Best=Population[getBest(Weights)]\n",
        "    \n",
        "      genPlot.append(gen)\n",
        "      genFit.append(Best.fitness)\n",
        "    if gen%100==0 :\n",
        "      print(gen)\n",
        "  #  if gen%2000==0 and gen != 0:\n",
        "  #    ShowImg(Best.genes)\n",
        "    gen+=1\n",
        "  Plot(genPlot,genFit,popSize)\n",
        "  print(\"\\n final Output :\",Best.fitness,\"Ratio :\",Best.fitness/np.array(Target).sum())\n",
        "  ShowImg(Best.genes)  \n",
        "  return Best"
      ],
      "execution_count": 63,
      "outputs": []
    },
    {
      "cell_type": "code",
      "metadata": {
        "id": "qrnilrT86OG2"
      },
      "source": [
        "def ShowImg(IMG):\n",
        "  image=np.array(IMG)\n",
        "  image=np.reshape(image,(P,P,3)).copy()\n",
        "  image = exposure.rescale_intensity(image, in_range='uint8')\n",
        "  image=img_as_ubyte(image)\n",
        "  \n",
        "  \n",
        "  print(image.shape)\n",
        "  imshow(image)"
      ],
      "execution_count": 102,
      "outputs": []
    },
    {
      "cell_type": "markdown",
      "metadata": {
        "id": "KSUkQt8J67u9"
      },
      "source": [
        "####Declarations"
      ]
    },
    {
      "cell_type": "code",
      "metadata": {
        "id": "Psy2YHlB6-u6"
      },
      "source": [
        "gen=0\n",
        "genFit=[] # the Fittest in the generation\n",
        "MatingNum=int(MatingNum)*2 # Number of Breeders , Make Sure Its an Even Number \n",
        "Breeders=[]\n",
        "Mutants=[]\n",
        "Target=np.reshape(rgb,P*P*3)\n",
        "genPlot=[] # Plotting Generations"
      ],
      "execution_count": 73,
      "outputs": []
    },
    {
      "cell_type": "markdown",
      "metadata": {
        "id": "pQuN3N042Qhx"
      },
      "source": [
        "###Code"
      ]
    },
    {
      "cell_type": "code",
      "metadata": {
        "id": "AgbeKmaPuC3S",
        "colab": {
          "base_uri": "https://localhost:8080/"
        },
        "outputId": "7ae4b17e-c131-4130-a61b-54d72358c2e1"
      },
      "source": [
        "#%%timeit\n",
        "Target"
      ],
      "execution_count": 116,
      "outputs": [
        {
          "output_type": "execute_result",
          "data": {
            "text/plain": [
              "array([156, 140, 140, ...,  21,  25,  36], dtype=uint8)"
            ]
          },
          "metadata": {
            "tags": []
          },
          "execution_count": 116
        }
      ]
    },
    {
      "cell_type": "code",
      "metadata": {
        "colab": {
          "base_uri": "https://localhost:8080/",
          "height": 315
        },
        "id": "NE6TJHW02PQ8",
        "outputId": "850f2456-829b-43bd-ebed-22610c8af388"
      },
      "source": [
        "ShowImg(Target)"
      ],
      "execution_count": 103,
      "outputs": [
        {
          "output_type": "stream",
          "text": [
            "(64, 64, 3)\n"
          ],
          "name": "stdout"
        },
        {
          "output_type": "display_data",
          "data": {
            "image/png": "[encoded data removed]",
            "text/plain": [
              "<Figure size 432x288 with 1 Axes>"
            ]
          },
          "metadata": {
            "tags": [],
            "needs_background": "light"
          }
        }
      ]
    },
    {
      "cell_type": "markdown",
      "metadata": {
        "id": "57fqTp7CcJdJ"
      },
      "source": [
        "######Population : 100"
      ]
    },
    {
      "cell_type": "markdown",
      "metadata": {
        "id": "GNE3QdRBCJvb"
      },
      "source": [
        "13:11 , 64%"
      ]
    },
    {
      "cell_type": "code",
      "metadata": {
        "colab": {
          "base_uri": "https://localhost:8080/",
          "height": 1000
        },
        "id": "Ll2TGmvI6kzF",
        "outputId": "0b3dc7b7-0968-466e-9f27-6c33f41ad843"
      },
      "source": [
        "popSize=100\n",
        "maxGen=10000\n",
        "MatingNum=(popSize/2)*(0.8) # REPLACE 80% of the Population \n",
        "temp=MODEL(geneSet,popSize,maxGen,mutation_rate,MatingNum,Target)"
      ],
      "execution_count": 107,
      "outputs": [
        {
          "output_type": "stream",
          "text": [
            "0\n",
            "100\n",
            "200\n",
            "300\n",
            "400\n",
            "500\n",
            "600\n",
            "700\n",
            "800\n",
            "900\n",
            "1000\n",
            "1100\n",
            "1200\n",
            "1300\n",
            "1400\n",
            "1500\n",
            "1600\n",
            "1700\n",
            "1800\n",
            "1900\n",
            "2000\n",
            "2100\n",
            "2200\n",
            "2300\n",
            "2400\n",
            "2500\n",
            "2600\n",
            "2700\n",
            "2800\n",
            "2900\n",
            "3000\n",
            "3100\n",
            "3200\n",
            "3300\n",
            "3400\n",
            "3500\n",
            "3600\n",
            "3700\n",
            "3800\n",
            "3900\n",
            "4000\n",
            "4100\n",
            "4200\n",
            "4300\n",
            "4400\n",
            "4500\n",
            "4600\n",
            "4700\n",
            "4800\n",
            "4900\n",
            "5000\n",
            "5100\n",
            "5200\n",
            "5300\n",
            "5400\n",
            "5500\n",
            "5600\n",
            "5700\n",
            "5800\n",
            "5900\n",
            "6000\n",
            "6100\n",
            "6200\n",
            "6300\n",
            "6400\n",
            "6500\n",
            "6600\n",
            "6700\n",
            "6800\n",
            "6900\n",
            "7000\n",
            "7100\n",
            "7200\n",
            "7300\n",
            "7400\n",
            "7500\n",
            "7600\n",
            "7700\n",
            "7800\n",
            "7900\n",
            "8000\n",
            "8100\n",
            "8200\n",
            "8300\n",
            "8400\n",
            "8500\n",
            "8600\n",
            "8700\n",
            "8800\n",
            "8900\n",
            "9000\n",
            "9100\n",
            "9200\n",
            "9300\n",
            "9400\n",
            "9500\n",
            "9600\n",
            "9700\n",
            "9800\n",
            "9900\n"
          ],
          "name": "stdout"
        },
        {
          "output_type": "display_data",
          "data": {
            "image/png": "[encoded data removed]",
            "text/plain": [
              "<Figure size 432x288 with 1 Axes>"
            ]
          },
          "metadata": {
            "tags": [],
            "needs_background": "light"
          }
        },
        {
          "output_type": "stream",
          "text": [
            "\n",
            " final Output : 1020175.0 Ratio : 0.6467266032898791\n",
            "(64, 64, 3)\n"
          ],
          "name": "stdout"
        },
        {
          "output_type": "display_data",
          "data": {
            "image/png": "[encoded data removed]",
            "text/plain": [
              "<Figure size 432x288 with 1 Axes>"
            ]
          },
          "metadata": {
            "tags": [],
            "needs_background": "light"
          }
        }
      ]
    },
    {
      "cell_type": "markdown",
      "metadata": {
        "id": "THgE53y_Xqkr"
      },
      "source": [
        "40:14 , 82.3\n",
        "\n",
        "\n",
        "\n",
        "![image.png](data:image/png;base64,iVBORw0KGgoAAAANSUhEUgAAAYIAAAEWCAYAAABrDZDcAAAaOUlEQVR4nO3daXDUdb7v8amZmqqpmgfzAGuejJNGA6gEjIog43gO6inhoGf0eg9QZxy5njrjiF6ZuaV153bCkmDYVHZlcUTHERfkzAwi/rMnhLCHBAIkhARIQjay73tvn/sg2APKTqd/3f9+v6o+VYqp7m+6y/7wX/r3+973vvc9EUIIiegYH4AQQojZGB+AEEKI2RgfgBBCiNkYH4AQQojZGB+AEEKI2RgfgBBCiNkYH4AQQojZGB+AEEKI2RgfgBBCiNkYH4AQQojZGB+AEEKI2RgfgBBCiNkYH4AQQojZGB+AEEKI2RgfgBBCiNkYH4AQQojZGB+AEEKI2RgfgBBCiNkYH4AQQojZGB+AEEKI2RgfgBBCiNkYH+CGMmLECE2YMIEQQsgNxFZFMGHCBAEAbgxFAAARjiIAgAhHEQBAhLN9EbhcLlVUVKikpITYIBUVFXK5XAb+VwHsy/ZFUFFRoebmZvl8PgMvLwLJ5/OpublZFRUVpkcBbMX2RVBSUkIJ2IjP51NJSYnpMQBbiYgigL3wngKBRREg7PCeAkN8Pp9KzndqY85Z7TvTfNOPY6siiIqK+s4vGAofGt///vcVGxurmJgYzZgxQ729vQF9/ClTpig/P/+qP7NmzZpLnnf69Olqb28P6BzfNm3aNP3kJz/RU089dcmfV1RUaNKkSYqOjtasWbM0ODgoSRoYGNCsWbMUHR2tSZMmqbKy8rKPGwrvKWCCz+dTdWuvvjhcpbmfH9UDSRlyOC05nJbeTD11049rqyII1SOCH//4x/5/fu6557Rq1aqAPv71FIHD4VBz883/jeFmZGVlaefOnd8pgpkzZ2rr1q2SpDlz5mjjxo2SpA0bNmjOnDmSpK1bt2rWrFmXfdxQeE+BYKlp69Vnh4Y++B9amuX/4H9wSab+z9aj2pZfrcbO/lt6DoogCC4ugk2bNumVV15Ra2urnnnmGY0fP14PPfSQjh8/LklKTEzU888/r8mTJ2vUqFF6//33JUk5OTmXfKC++uqr+uijjyRdWgQvv/yyJkyYoLFjxyohIUGStG7dOv3whz/UuHHj9Oijj0q6tBhWrVqlmJgYxcTEaM2aNZKkyspK3X333XrxxRc1duxYPfHEE+rr67vh3/3bc/t8Po0YMUJut1uSdODAAU2dOlWSNHXqVB04cECS5Ha7NWLEiMte6A+F9xQYLv0uj3LLmpT09Un9y6rd/g/+h5Zmae7nR/WX/ZUqre8K6E0wEVUEi3YWa9Z7BwKaRTuLr/kif1MEbrdbTz/9tDZu3Ki5c+dq0aJFkqTs7GzFxsZKGiqCe++9V319fWpubtbtt9+uurq66y6C1tZWSZLH49GUKVP8BfPtI4Jv/r2goEDjxo1TT0+Puru7NXbsWB09elSVlZX6wQ9+oMLCQklDf4v/5JNPvvO7ffXVV1q4cOEVf/dvz93c3Kzo6Gj/v1dXVysmJkaSFBMTo5qaGv9/u/POOy97FEMRwG46el36+5EavfJpge5ekCqH09Lo+Sma/WGePthboTON3cN69yNFEIQi+OYaQWxsrObOnavBwUHdd999Ki8v9//M7bffrs7OTiUmJl7ywTp79mx9+eWX110EmzZt0v3336/x48frtttu85+CuVIRrF279pLnW7BggdatW6fKykqNGjXK/+dvvvmmFi9efM3f9dsoAuDy6jv69cnBc3r+g0OKjk+Ww2lp4pJMxW8/oV2ljeob9ARtlogqAlMuPjX0jasVwTendKShItixY4f27t2r6dOn+//8t7/97XeKoKKiQtHR0Wpra5MkvfDCC/6fuZki+OYDWpJWrFihxMTEG/7dOTUEDHF7vDpc2ap3s0/r397Z6z/l8+iKHC1POaXC6nZ5vWa+80QRBMHliuD3v/+9kpKSJA19WN53332Shk4NxcbGqr+/Xy0tLfr5z3+uuro6VVdXy+FwaGBgQO3t7Ro5cuR3iuDYsWO699575fV61dDQoJ/+9Kf+nxk3btwl38j9pgiOHDmi8ePHq7e3Vz09PYqJifGfGhqOIpCkGTNmXHKxeMOGDZKk9evXX3KxeObMmZd9zFB4T4HrMej2au/pZiXsKNKExf+4w+eZ9fu0MeesyhoCe67/ZlEEQXC5IrjaxeLZs2d/52KxJP3xj3/UqFGj9MQTT+jZZ5+97KmhF154QaNHj9bjjz9+yc+88847GjNmzA1dLL6eIrjaNYJHHnlEt912m370ox/pZz/7mdLS0iRJ5eXlmjhxoqKjozVjxgwNDAxIkvr7+zVjxgxFR0dr4sSJlxwxXSwU3lPgSroH3NpRWKvffZyvsQuHzvePmZ+iVz4tUPKJ82rtGTQ94ndQBCEmMTFRK1asMD1GSAu39xT219nv0tfH6/TyJwUaMz/Ff5fPvO0nlF5cH9Tz/TeDIggxFMG1hdt7Cntq7RnUJwfP6dfvH/Rf7J2wOFMJO4p0uLLV2Pn+m0ERIOzwnsKU8qZurcks05Pr9ujOCx/+j68cutibV9EqTxh9+F8sIoogFC7GIDBYfRTBdrapW+/tPuu/02dknKWZmw5oZXqpius6bPH5YvsiYD8C+2A/AgRLWUOX3ko9pUdX5Pjv9HnqnT3avKdc9R23tpxDKLJ9EbBDmb3CDmUYLuVN3Xon67Smrs6Vw2npzvhkPf/BIX18oFK17Te+vEo4sX0RAMCV1LX3aUPOGf+Hv8M5dNrnL/sr1dw9YHq8oKEIAESUAbdHO4/V6fkPDmlk3NCH///cuF9/2W//v/lfCUUAICLUtPVqZXqp/xu+Dy/P1qr0Up1r6TE9mnEUAQDbau8d1H/nV2v2h3kaGTd0x89/fXRYuWVNYXWf/3CjCADYitvjVVZJg373cb5GzUv2/+1/ZXqpatoCuzugXVAEAGzhVH2nFn99UhOXZF74lm+GFn99Useq27l9/BooAgBhq2fArb8V1OjZDfvkcFoaNS9ZL36cr9Sierk8XtPjhQ2KAEBYGXQPnfr5/edH/bt5PbYyRx/srVBbCK7sGQ4oAgAhz+v1qeBcq+ZtP6HYN9LlcFqKfSNd8dtP6FB5C6d+bhFFACAkeb0+5Ve2avHXJ/XLN7PlcFq6a0GK5n5+VFklDRp0c+onUCgCACHlXEuPVqaX6hfLsoY2cZ83tIn734/UqHvAbXo8W6IIABjXPeDWtsPVmrnpgBxOS3fEWZr9YZ52FNaqo5e1pYYbRQDACK/Xp/1nm/XatsJLLvpuyDljyxU+QxlFACComrsH9G72af95/3EJaYr7+wkdqWrjoq8hFAGAoCg416qXtuT7t3X8zeZD2lFYq35XaO/nGwkoAgDDxuP1KaukwX/uP/aNdC1NLtGZxm7To+EiFAGAgKtu7dVbqac0+cKdP79YlqUP91aod5C7fkIRRQAgYIrrOvS/PzuiO+KG7vz5zz/nKfnEee75D3EUAYBb4vP5lFPaqP/400E5nJZiEtK0POWUzndE5iYv4chWRRAVFWX69QQixoDbox2FtXpy3R45nJYmL8vSpt1n1dHHff/hxlZFwBEBMPzaewe1ftcZPXhhuefHVuZoW341p3/CGEUA4LrUtfcp8ati3bNw6Mtfsz/MY6cvm6AIAFxVYXW7Xvm0QHfGJ2vUvGS9vu2YSs53mh4LAUQRAPiO3kG3tuZVafraofP/4xLTtDS5RNWtbPVoRxQBAL/ypm7N//KE//TPtDW5+vhAJat+2hxFAED5la36r48O+5d9fn3bMeVVtLL2T4SgCIAIVlzXoec/OCSH09IDSRlanVGmpq4B02MhyCgCIML4fD4dKm/xHwHcn5ShzXvK1TfI4m+RiiIAIoTX61NqUb2eWb/PXwBrMsvY8B0UAWB3A26PvjhcpcdW5sjhtPRPb+3SloPnOAKAH0UA2FT3gFt/yj2rSUuHvgH85Lo92nmsTm4P3wDGpSgCwGY6+lxal3Va4xPT5HBa+vX7B5Vb1sQdQLgiigCwicaufi3a+Y8lIF78OF+F1e2mx0IYoAiAMNfaM6jlKad094JURccn67UvClVU22F6LIQRigAIUx19Lq3OKNM9C1M1Ms7SH7YeVUVzj+mxEIYoAiDMdA+4tSazTOMuXAN4+ZMCnWnsMj0WwhhFAISJlu4BJX5VrLsWpMjhtPTSlnwV13EKCLeOIgBCXHlTt+K3n9CY+Sm6I87S//3vYzrGRWAEEEUAhKiGzn4t+LJIo+Yla/T8FDn/dlxnGrtNjwUbogiAENPV79KKtFKNmZ+i6PhkxW8/wUJwGFYUARAi+gY9l3wR7A9bj6qqhY1gMPwoAsAwl8errXlV/qUgfvuXfB2v4RoAgociAAxxe7zall+th5dny+G09OyGfTpc2Wp6LEQgigAIMpfHqy0Hz2nK27vkcFp6ev0+ZZ9qYC0gGEMRAEGUVdKgx1YMLQf9PzbsU2pRPQUA4ygCIAgqmns0Z0uBHE5Lj6/MUcZJjgAQOigCYBh1D7i1POWURs1L1j0LU/Vu9mm52A8AIYYiAIaBz+fT9qM1mrhk6E6g17cdU2NXv+mxgMuiCIAAK6rt0Kz3DsjhtPSrd/fqSFWb6ZGAq6IIgACpaevVS1vy5XBaGp+Yps/zquT1ch0AoY8iAG6R1+vTF4erNC4hTTEJaVqbeVqd/S7TYwHXjSIAbsGRqjb92zt75XBamrFpv6pbWRIC4cdWRRAVFWX69USE6Oh1KX77CTmcliYtzdSOwlpuB0XYslURcESA4ebz+ZR84rweXJKpO+IsJX19Ut0DbtNjAbeEIgCu08HyFv3q3aHTQNPX7mGDeNgGRQBcQ9+gR4lfFcvhtPTw8mxty6+Wmy+FwUYoAuAqTtZ16rGVQ2sDJX5VrL5Bj+mRgICjCIDLGHR7tSazTNHxyXpwSab2nWk2PRIwbCgC4FtO1nVq+to9/l3C2nsHTY8EDCuKALigb9CjVemlGjUvWRMWZyituN70SEBQUASApNyyJv3yzWz/UUBrD0cBiBwUASJaW8+gXvui0L9PwKHyFtMjAUFHESBipRXX64GkDEXHJ2tVeqn6XdwRhMhEESDiNHcP6JVPh3YL+9e1e3SqvtP0SIBRFAEiyomaDj20NEuj56do/a4z7BYGiCJAhHB5vNq0+6zuWpCih5dnq7iO5SGAb1AEsL2jVW2atiZXDqel332cr4ZOtowELkYRwLa6B9xK2FGkkXGWHlqaxfcCgCugCGBLu0ob9YtlWRoZN7RGUBc7hgFXRBHAVvpdHr2x86QcTktTV+eq4Fyr6ZGAkEcRwDZO1nXqn9/e5V8plO8FANeHIkDY83h92rT7rEbPS9HEJZnae5qVQoEbQREgrFW19OrfN+6Xw2lpzpYCtXQPmB4JCDsUAcKSz+fT1rwq3bMwVeMS0vT3IzVsHg/cJIoAYafloiUifv3+QdW295keCQhrFAHCSmpRvSYsztCoecnakHNGXi9HAcCtoggQFgbcHiXsKJLDaenJdSwUBwQSRYCQV93aq6ff3SuH01LS1yc16GahOCCQKAKEtOxTDRqfmKZxiWlKLWKJCGA4UAQISV6vT3/KPas74oZOBZ1r6TE9EmBbFAFCTlPXgJ7bfFAOp6WXtuSrb5BvCAPDiSJASDnT2K0pb+/SXQtStDWviu8GAEFAESBkWMfPa+zCVE1YnMFicUAQUQQwbtDt1aKdxXI4LT27YZ/qO9g4BggmigBGNXcP6NkN++RwWlq0s5hbQwEDbFUEUVFRpl9P3IDC6nZNXpaluxak6OvjdabHASKWrYqAI4Lw4PP59MnBcxo9L0W/fDNbRbVsJA+YRBEgqPpdHr2+7ZgcTkv/68M8tfcOmh4JiHgUAYLmbFO3pq3J1cg4S6szylgwDggRFAGCIq24XvcsTNX9SRnKKW00PQ6Ai1AEGFYer0+rM8o0Ms7S0+u5NRQIRRQBhk1T14B+s/mQHE5Lr20rZKkIIERRBBgWu8uaNGFxhsbMT9EXh1kqAghlFAECyuP1aVV6qRxOS0+s3q2yhi7TIwG4BooAAdPv8uilLflyOC398a/H1O/iVBAQDigCBERjZ7+mr92jkXGWPthbYXocADeAIsAtyy1r0oTFmbp7QaqyTzWYHgfADaIIcNNcHq+WpZT4rweU1nM9AAhHFAFuSnVrr55ZP7RqaPz2E9waCoQxigA37GRdpyYtzdS4xDRZx8+bHgfALaIIcEN2FNbqrgUpemhpFqeCAJugCHBd3J5/7CI2c9MBNXaxVARgFxQBrqmjz6XnPzjELmKATVEEuKrK5h49vjJH0fHJ+uJwlelxAAwDigBXlFvWpNg30hX7RroOlreYHgfAMKEI8B2Dbq+Svj7p/37AuZYe0yMBGEYUAS7R0efSf/zpoBxOSwt3FPH9ACACUATwq+/o19TVuRo1L1nbj9aYHgdAkFAEkCSd7+jToytyFJOQpn1nmk2PAyCIKAKotL5Lk5dlKSYhTQXnWk2PAyDIKIIIV9bQpQeSMjRxSaZO1nWaHgeAARRBBMs42aCxC1P14JJMlTd1mx4HgCEUQQTy+XzavKdcI+Ms/erdvTrf0Wd6JAAGUQQRxuXxKn77CTmcluZsKeD2UAAUQSTpHXTrhT/nyeG0tCylRF6vz/RIAEIARRAh2noG9cz6fbojztLneawZBOAfKIII0NjZr39ZtVuj56corbje9DgAQoytiiAqKsr06xlyTjd06ZG3sjV2YSoLxwG4LFsVAUcEl8ota9K9i9L14JJMHa1qMz0OgBBFEdjUF4erFB2frGlrclk9FMBVUQQ24/H6tMQaWkJ69od56up3mR4JQIijCGzE6/Xp9W3H/EtIuz1sKQng2igCm/B6ffp/fz0uh9PS2szTpscBEEYoAhvwXFQCq9JLTY8DIMxQBGHO7fHq1c+O+EvA5+PbwgBuDEUQxtwer/6w9agcTkubdp81PQ6AMEURhKmeAbde+bRADqeljTmUAICbRxGEofMdfZq6Old3xFnavKfc9DgAwhxFEGZq2/v0T2/tUkxCmvacbjI9DgAboAjCSE1brx55K1vjEtJYMgJAwFAEYaKyuUcPL8/W+MQ0HatuNz0OABuhCMJAZXOPfrEsS/cnZehETYfpcQDYDEUQ4opqO/RAUobueyNdJ+s6TY8DwIYoghBWWt+lB5Iy9PDybJ1t6jY9DgCboghC1Mm6Tt2flKFJSzNVTgkAGEYUQQgqqu1Q7BvpmrwsS5XN7CUAYHhRBCGmqLZD9y5K18PLs1XV0mt6HAARgCIIIReXQHUrJQAgOCiCEFFwrk2xb1ACAIKPIggBBefadM/CVE15exengwAEHUVgWH5lq8Ylpumf396lxs5+0+MAiEAUgUFnm7o1PjFNj67IUW17n+lxAEQoisCQxs5+TXl7lx5IyuCaAACjKAIDGjr79fjKHN2zMFUF51hFFIBZFEGQNXb267EVORq7MFWHyltMjwMAFEEwNXUN+I8E8itbTY8DAJIogqBp6R7QE6t36+4FHAkACC0UQRC09Qxq2ppcjZmfov1nm02PAwCXoAiGWUefS0+9s0ej56Uot4w9hgGEHopgGHX1u/T0+n0aNS9Z2acaTI8DAJdlqyKIiooy/Xr69Qy49e8b9ys6PlnpxfWmxwGAK7JVEYTKEUHfoEez3jugO+OTlXzivOlxAOCqKIIA63d59JvNh3RHnKUdhbWmxwGAa6IIAsjl8eo//5ynkXGW/lpQY3QWALheFEGAeL0+vfZFoRxOS58dqjI2BwDcKIogQJYll8jhtPRO1mljMwDAzaAIAmDznnI5nJYWfFkkn89nZAYAuFkUwS36a0GNHE5LL39SII+XEgAQfiiCW5BeXK/R81L06/cPqt/lCepzA0CgUAQ36atjdbozPlnPrN+njl5X0J4XAAKNIrgJe043KTo+WTPfO6DuAXdQnhMAhgtFcIOKajsUk5CmaWty1dXPkQCA8EcR3IDypm49kJShh5dn63wHm80DsAeK4DrVd/Tr4eXZeiApQ+VN3cP2PAAQbBTBdejsd+mJ1bsVk5CmEzUdw/IcAGAKRXAN3ywiFx2frP1n2F0MgP1QBFfh9fr06mdH5HBa2pZfHdDHBoBQQRFcxdtpp+RwWtqYczagjwsAoYQiuILP86rkcFpy/u046wcBsDWK4DJySht1Z3yyZn+YJ5fHG5DHBIBQRRF8S3Fdh8YuTNW/rt3Dt4YBRASK4CLnO/o0aWmmJi/LUn1Hf4BeYgAIbRTBBb2Dbj25bo9iEtJUcr4zgC8xAIQ2iuCCFWmlGhlnKftUQwBfXgAIfRTBBdPW5Oq5zQcD+NICQHigCC4Yn5imhTuKAvjSAkB4oAg0tIwEG88DiFQUgaS2nkE5nJY+3FsR4JcXAEIfRSCprr1PDqelrXlVAX55ASD0UQSSzjR2y+G0tKOwNsAvLwCEPopAQ9tPOpyW0ovrA/zyAkDoowgk5VW0yuG0tPc0+w0AiDwUgaTdZU1yOC0VnGsN8MsLAKHPVkUQFRV1Uy9CatF5OZyWTtaxtASAyGOrIrjZI4KCc6165dMCFpoDEJEoAgCIcBQBAEQ4igAAIhxFAAARjiIAgAhHEQBAhKMIACDCUQQAEOEoAgCIcLYqAkIIIQGP8QEIIYSYjfEBCCGEmI3xAQghhJiN8QEIIYSYjfEBCCGEmI3xAQghhJiN8QEIIYSYjfEBCCGEmI3xAQghhJiN8QEIIYSYjfEBCCGEmI3xAQghhJiN8QEIIYSYjfEBCCGEmI3xAQghhJiN8QEIIYSYjfEBCCGEmI3xAQghhJiN8QEIIYSYjfEBCCGEmI3xAQghhJiN8QEIIYSYjfEBCCGEmI3xAQghhJiN8QEIIYSYjfEBCCGEmI3xAQghhJiN8QEIIYSYjfEBCCGEmI3xAQghhJiN8QEIIYSYjfEBCCGEmI3xAQghhJiN8QEIIYSYjfEBCCGEmI3xAQghhJiN8QEIIYQYzP8HxpamSrM73k0AAAAASUVORK5CYII=)\n",
        "\n",
        "\n",
        "\n",
        "\n",
        "\n",
        "\n",
        "\n",
        "\n",
        "\n",
        "\n",
        "\n",
        "\n",
        "![image.png](data:image/png;base64,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)"
      ]
    },
    {
      "cell_type": "code",
      "metadata": {
        "colab": {
          "base_uri": "https://localhost:8080/",
          "height": 1000
        },
        "id": "iMwcDqTaOVuJ",
        "outputId": "74cc7cab-3d30-415e-a753-ca31091aa6a7"
      },
      "source": [
        "popSize=100\n",
        "maxGen=30000\n",
        "MatingNum=(popSize/2)*(0.8) # REPLACE 80% of the Population \n",
        "temp=MODEL(geneSet,popSize,maxGen,mutation_rate,MatingNum,Target)"
      ],
      "execution_count": 114,
      "outputs": [
        {
          "output_type": "stream",
          "text": [
            "0\n",
            "100\n",
            "200\n",
            "300\n",
            "400\n",
            "500\n",
            "600\n",
            "700\n",
            "800\n",
            "900\n",
            "1000\n",
            "1100\n",
            "1200\n",
            "1300\n",
            "1400\n",
            "1500\n",
            "1600\n",
            "1700\n",
            "1800\n",
            "1900\n",
            "2000\n",
            "2100\n",
            "2200\n",
            "2300\n",
            "2400\n",
            "2500\n",
            "2600\n",
            "2700\n",
            "2800\n",
            "2900\n",
            "3000\n",
            "3100\n",
            "3200\n",
            "3300\n",
            "3400\n",
            "3500\n",
            "3600\n",
            "3700\n",
            "3800\n",
            "3900\n",
            "4000\n",
            "4100\n",
            "4200\n",
            "4300\n",
            "4400\n",
            "4500\n",
            "4600\n",
            "4700\n",
            "4800\n",
            "4900\n",
            "5000\n",
            "5100\n",
            "5200\n",
            "5300\n",
            "5400\n",
            "5500\n",
            "5600\n",
            "5700\n",
            "5800\n",
            "5900\n",
            "6000\n",
            "6100\n",
            "6200\n",
            "6300\n",
            "6400\n",
            "6500\n",
            "6600\n",
            "6700\n",
            "6800\n",
            "6900\n",
            "7000\n",
            "7100\n",
            "7200\n",
            "7300\n",
            "7400\n",
            "7500\n",
            "7600\n",
            "7700\n",
            "7800\n",
            "7900\n",
            "8000\n",
            "8100\n",
            "8200\n",
            "8300\n",
            "8400\n",
            "8500\n",
            "8600\n",
            "8700\n",
            "8800\n",
            "8900\n",
            "9000\n",
            "9100\n",
            "9200\n",
            "9300\n",
            "9400\n",
            "9500\n",
            "9600\n",
            "9700\n",
            "9800\n",
            "9900\n",
            "10000\n",
            "10100\n",
            "10200\n",
            "10300\n",
            "10400\n",
            "10500\n",
            "10600\n",
            "10700\n",
            "10800\n",
            "10900\n",
            "11000\n",
            "11100\n",
            "11200\n",
            "11300\n",
            "11400\n",
            "11500\n",
            "11600\n",
            "11700\n",
            "11800\n",
            "11900\n",
            "12000\n",
            "12100\n",
            "12200\n",
            "12300\n",
            "12400\n",
            "12500\n",
            "12600\n",
            "12700\n",
            "12800\n",
            "12900\n",
            "13000\n",
            "13100\n",
            "13200\n",
            "13300\n",
            "13400\n",
            "13500\n",
            "13600\n",
            "13700\n",
            "13800\n",
            "13900\n",
            "14000\n",
            "14100\n",
            "14200\n",
            "14300\n",
            "14400\n",
            "14500\n",
            "14600\n",
            "14700\n",
            "14800\n",
            "14900\n",
            "15000\n",
            "15100\n",
            "15200\n",
            "15300\n",
            "15400\n",
            "15500\n",
            "15600\n",
            "15700\n",
            "15800\n",
            "15900\n",
            "16000\n",
            "16100\n",
            "16200\n",
            "16300\n",
            "16400\n",
            "16500\n",
            "16600\n",
            "16700\n",
            "16800\n",
            "16900\n",
            "17000\n",
            "17100\n",
            "17200\n",
            "17300\n",
            "17400\n",
            "17500\n",
            "17600\n",
            "17700\n",
            "17800\n",
            "17900\n",
            "18000\n",
            "18100\n",
            "18200\n",
            "18300\n",
            "18400\n",
            "18500\n",
            "18600\n",
            "18700\n",
            "18800\n",
            "18900\n",
            "19000\n",
            "19100\n",
            "19200\n",
            "19300\n",
            "19400\n",
            "19500\n",
            "19600\n",
            "19700\n",
            "19800\n",
            "19900\n",
            "20000\n",
            "20100\n",
            "20200\n",
            "20300\n",
            "20400\n",
            "20500\n",
            "20600\n",
            "20700\n",
            "20800\n",
            "20900\n",
            "21000\n",
            "21100\n",
            "21200\n",
            "21300\n",
            "21400\n",
            "21500\n",
            "21600\n",
            "21700\n",
            "21800\n",
            "21900\n",
            "22000\n",
            "22100\n",
            "22200\n",
            "22300\n",
            "22400\n",
            "22500\n",
            "22600\n",
            "22700\n",
            "22800\n",
            "22900\n",
            "23000\n",
            "23100\n",
            "23200\n",
            "23300\n",
            "23400\n",
            "23500\n",
            "23600\n",
            "23700\n",
            "23800\n",
            "23900\n",
            "24000\n",
            "24100\n",
            "24200\n",
            "24300\n",
            "24400\n",
            "24500\n",
            "24600\n",
            "24700\n",
            "24800\n",
            "24900\n",
            "25000\n",
            "25100\n",
            "25200\n",
            "25300\n",
            "25400\n",
            "25500\n",
            "25600\n",
            "25700\n",
            "25800\n",
            "25900\n",
            "26000\n",
            "26100\n",
            "26200\n",
            "26300\n",
            "26400\n",
            "26500\n",
            "26600\n",
            "26700\n",
            "26800\n",
            "26900\n",
            "27000\n",
            "27100\n",
            "27200\n",
            "27300\n",
            "27400\n",
            "27500\n",
            "27600\n",
            "27700\n",
            "27800\n",
            "27900\n",
            "28000\n",
            "28100\n",
            "28200\n",
            "28300\n",
            "28400\n",
            "28500\n",
            "28600\n",
            "28700\n",
            "28800\n",
            "28900\n",
            "29000\n",
            "29100\n",
            "29200\n",
            "29300\n",
            "29400\n",
            "29500\n",
            "29600\n",
            "29700\n",
            "29800\n",
            "29900\n"
          ],
          "name": "stdout"
        },
        {
          "output_type": "display_data",
          "data": {
            "image/png": "[encoded data removed]",
            "text/plain": [
              "<Figure size 432x288 with 1 Axes>"
            ]
          },
          "metadata": {
            "tags": [],
            "needs_background": "light"
          }
        },
        {
          "output_type": "stream",
          "text": [
            "\n",
            " final Output : 1299313.0 Ratio : 0.8236824888870857\n",
            "(64, 64, 3)\n"
          ],
          "name": "stdout"
        },
        {
          "output_type": "display_data",
          "data": {
            "image/png": "[encoded data removed]",
            "text/plain": [
              "<Figure size 432x288 with 1 Axes>"
            ]
          },
          "metadata": {
            "tags": [],
            "needs_background": "light"
          }
        }
      ]
    },
    {
      "cell_type": "markdown",
      "metadata": {
        "id": "aQjQQmXnJ0rv"
      },
      "source": [
        "##### Population : 50"
      ]
    },
    {
      "cell_type": "markdown",
      "metadata": {
        "id": "_g_uPqzqJv7R"
      },
      "source": [
        "6:43 , 59.4"
      ]
    },
    {
      "cell_type": "code",
      "metadata": {
        "colab": {
          "base_uri": "https://localhost:8080/",
          "height": 1000
        },
        "id": "aZEIau8eCYxb",
        "outputId": "1cd7fcd9-2e16-4d47-94bd-bda9101ac7ff"
      },
      "source": [
        "popSize=50\n",
        "maxGen=10000\n",
        "MatingNum=(popSize/2)*(0.8) # REPLACE 80% of the Population \n",
        "temp=MODEL(geneSet,popSize,maxGen,mutation_rate,MatingNum,Target)"
      ],
      "execution_count": 112,
      "outputs": [
        {
          "output_type": "stream",
          "text": [
            "0\n",
            "100\n",
            "200\n",
            "300\n",
            "400\n",
            "500\n",
            "600\n",
            "700\n",
            "800\n",
            "900\n",
            "1000\n",
            "1100\n",
            "1200\n",
            "1300\n",
            "1400\n",
            "1500\n",
            "1600\n",
            "1700\n",
            "1800\n",
            "1900\n",
            "2000\n",
            "2100\n",
            "2200\n",
            "2300\n",
            "2400\n",
            "2500\n",
            "2600\n",
            "2700\n",
            "2800\n",
            "2900\n",
            "3000\n",
            "3100\n",
            "3200\n",
            "3300\n",
            "3400\n",
            "3500\n",
            "3600\n",
            "3700\n",
            "3800\n",
            "3900\n",
            "4000\n",
            "4100\n",
            "4200\n",
            "4300\n",
            "4400\n",
            "4500\n",
            "4600\n",
            "4700\n",
            "4800\n",
            "4900\n",
            "5000\n",
            "5100\n",
            "5200\n",
            "5300\n",
            "5400\n",
            "5500\n",
            "5600\n",
            "5700\n",
            "5800\n",
            "5900\n",
            "6000\n",
            "6100\n",
            "6200\n",
            "6300\n",
            "6400\n",
            "6500\n",
            "6600\n",
            "6700\n",
            "6800\n",
            "6900\n",
            "7000\n",
            "7100\n",
            "7200\n",
            "7300\n",
            "7400\n",
            "7500\n",
            "7600\n",
            "7700\n",
            "7800\n",
            "7900\n",
            "8000\n",
            "8100\n",
            "8200\n",
            "8300\n",
            "8400\n",
            "8500\n",
            "8600\n",
            "8700\n",
            "8800\n",
            "8900\n",
            "9000\n",
            "9100\n",
            "9200\n",
            "9300\n",
            "9400\n",
            "9500\n",
            "9600\n",
            "9700\n",
            "9800\n",
            "9900\n"
          ],
          "name": "stdout"
        },
        {
          "output_type": "display_data",
          "data": {
            "image/png": "[encoded data removed]",
            "text/plain": [
              "<Figure size 432x288 with 1 Axes>"
            ]
          },
          "metadata": {
            "tags": [],
            "needs_background": "light"
          }
        },
        {
          "output_type": "stream",
          "text": [
            "\n",
            " final Output : 937700.0 Ratio : 0.5944426553335649\n",
            "(64, 64, 3)\n"
          ],
          "name": "stdout"
        },
        {
          "output_type": "display_data",
          "data": {
            "image/png": "[encoded data removed]",
            "text/plain": [
              "<Figure size 432x288 with 1 Axes>"
            ]
          },
          "metadata": {
            "tags": [],
            "needs_background": "light"
          }
        }
      ]
    },
    {
      "cell_type": "markdown",
      "metadata": {
        "id": "6yMDOHYlOAJ9"
      },
      "source": [
        "12:5 , 68.8"
      ]
    },
    {
      "cell_type": "code",
      "metadata": {
        "colab": {
          "base_uri": "https://localhost:8080/",
          "height": 1000
        },
        "id": "chPabGq2KA64",
        "outputId": "f6dc9650-708c-4daf-b136-45609596031c"
      },
      "source": [
        "popSize=50\n",
        "maxGen=30000\n",
        "MatingNum=(popSize/2)*(0.5) # REPLACE 80% of the Population \n",
        "temp=MODEL(geneSet,popSize,maxGen,mutation_rate,MatingNum,Target)"
      ],
      "execution_count": 113,
      "outputs": [
        {
          "output_type": "stream",
          "text": [
            "0\n",
            "100\n",
            "200\n",
            "300\n",
            "400\n",
            "500\n",
            "600\n",
            "700\n",
            "800\n",
            "900\n",
            "1000\n",
            "1100\n",
            "1200\n",
            "1300\n",
            "1400\n",
            "1500\n",
            "1600\n",
            "1700\n",
            "1800\n",
            "1900\n",
            "2000\n",
            "2100\n",
            "2200\n",
            "2300\n",
            "2400\n",
            "2500\n",
            "2600\n",
            "2700\n",
            "2800\n",
            "2900\n",
            "3000\n",
            "3100\n",
            "3200\n",
            "3300\n",
            "3400\n",
            "3500\n",
            "3600\n",
            "3700\n",
            "3800\n",
            "3900\n",
            "4000\n",
            "4100\n",
            "4200\n",
            "4300\n",
            "4400\n",
            "4500\n",
            "4600\n",
            "4700\n",
            "4800\n",
            "4900\n",
            "5000\n",
            "5100\n",
            "5200\n",
            "5300\n",
            "5400\n",
            "5500\n",
            "5600\n",
            "5700\n",
            "5800\n",
            "5900\n",
            "6000\n",
            "6100\n",
            "6200\n",
            "6300\n",
            "6400\n",
            "6500\n",
            "6600\n",
            "6700\n",
            "6800\n",
            "6900\n",
            "7000\n",
            "7100\n",
            "7200\n",
            "7300\n",
            "7400\n",
            "7500\n",
            "7600\n",
            "7700\n",
            "7800\n",
            "7900\n",
            "8000\n",
            "8100\n",
            "8200\n",
            "8300\n",
            "8400\n",
            "8500\n",
            "8600\n",
            "8700\n",
            "8800\n",
            "8900\n",
            "9000\n",
            "9100\n",
            "9200\n",
            "9300\n",
            "9400\n",
            "9500\n",
            "9600\n",
            "9700\n",
            "9800\n",
            "9900\n",
            "10000\n",
            "10100\n",
            "10200\n",
            "10300\n",
            "10400\n",
            "10500\n",
            "10600\n",
            "10700\n",
            "10800\n",
            "10900\n",
            "11000\n",
            "11100\n",
            "11200\n",
            "11300\n",
            "11400\n",
            "11500\n",
            "11600\n",
            "11700\n",
            "11800\n",
            "11900\n",
            "12000\n",
            "12100\n",
            "12200\n",
            "12300\n",
            "12400\n",
            "12500\n",
            "12600\n",
            "12700\n",
            "12800\n",
            "12900\n",
            "13000\n",
            "13100\n",
            "13200\n",
            "13300\n",
            "13400\n",
            "13500\n",
            "13600\n",
            "13700\n",
            "13800\n",
            "13900\n",
            "14000\n",
            "14100\n",
            "14200\n",
            "14300\n",
            "14400\n",
            "14500\n",
            "14600\n",
            "14700\n",
            "14800\n",
            "14900\n",
            "15000\n",
            "15100\n",
            "15200\n",
            "15300\n",
            "15400\n",
            "15500\n",
            "15600\n",
            "15700\n",
            "15800\n",
            "15900\n",
            "16000\n",
            "16100\n",
            "16200\n",
            "16300\n",
            "16400\n",
            "16500\n",
            "16600\n",
            "16700\n",
            "16800\n",
            "16900\n",
            "17000\n",
            "17100\n",
            "17200\n",
            "17300\n",
            "17400\n",
            "17500\n",
            "17600\n",
            "17700\n",
            "17800\n",
            "17900\n",
            "18000\n",
            "18100\n",
            "18200\n",
            "18300\n",
            "18400\n",
            "18500\n",
            "18600\n",
            "18700\n",
            "18800\n",
            "18900\n",
            "19000\n",
            "19100\n",
            "19200\n",
            "19300\n",
            "19400\n",
            "19500\n",
            "19600\n",
            "19700\n",
            "19800\n",
            "19900\n",
            "20000\n",
            "20100\n",
            "20200\n",
            "20300\n",
            "20400\n",
            "20500\n",
            "20600\n",
            "20700\n",
            "20800\n",
            "20900\n",
            "21000\n",
            "21100\n",
            "21200\n",
            "21300\n",
            "21400\n",
            "21500\n",
            "21600\n",
            "21700\n",
            "21800\n",
            "21900\n",
            "22000\n",
            "22100\n",
            "22200\n",
            "22300\n",
            "22400\n",
            "22500\n",
            "22600\n",
            "22700\n",
            "22800\n",
            "22900\n",
            "23000\n",
            "23100\n",
            "23200\n",
            "23300\n",
            "23400\n",
            "23500\n",
            "23600\n",
            "23700\n",
            "23800\n",
            "23900\n",
            "24000\n",
            "24100\n",
            "24200\n",
            "24300\n",
            "24400\n",
            "24500\n",
            "24600\n",
            "24700\n",
            "24800\n",
            "24900\n",
            "25000\n",
            "25100\n",
            "25200\n",
            "25300\n",
            "25400\n",
            "25500\n",
            "25600\n",
            "25700\n",
            "25800\n",
            "25900\n",
            "26000\n",
            "26100\n",
            "26200\n",
            "26300\n",
            "26400\n",
            "26500\n",
            "26600\n",
            "26700\n",
            "26800\n",
            "26900\n",
            "27000\n",
            "27100\n",
            "27200\n",
            "27300\n",
            "27400\n",
            "27500\n",
            "27600\n",
            "27700\n",
            "27800\n",
            "27900\n",
            "28000\n",
            "28100\n",
            "28200\n",
            "28300\n",
            "28400\n",
            "28500\n",
            "28600\n",
            "28700\n",
            "28800\n",
            "28900\n",
            "29000\n",
            "29100\n",
            "29200\n",
            "29300\n",
            "29400\n",
            "29500\n",
            "29600\n",
            "29700\n",
            "29800\n",
            "29900\n"
          ],
          "name": "stdout"
        },
        {
          "output_type": "display_data",
          "data": {
            "image/png": "[encoded data removed]",
            "text/plain": [
              "<Figure size 432x288 with 1 Axes>"
            ]
          },
          "metadata": {
            "tags": [],
            "needs_background": "light"
          }
        },
        {
          "output_type": "stream",
          "text": [
            "\n",
            " final Output : 1086232.0 Ratio : 0.6886025747982178\n",
            "(64, 64, 3)\n"
          ],
          "name": "stdout"
        },
        {
          "output_type": "display_data",
          "data": {
            "image/png": "[encoded data removed]",
            "text/plain": [
              "<Figure size 432x288 with 1 Axes>"
            ]
          },
          "metadata": {
            "tags": [],
            "needs_background": "light"
          }
        }
      ]
    },
    {
      "cell_type": "markdown",
      "metadata": {
        "id": "XqsWxe91-o6s"
      },
      "source": [
        "###Alternative Approach"
      ]
    },
    {
      "cell_type": "code",
      "metadata": {
        "id": "QUhqJkpQ9iJ9"
      },
      "source": [
        ""
      ],
      "execution_count": 118,
      "outputs": []
    },
    {
      "cell_type": "code",
      "metadata": {
        "id": "fgGeggh2blvb"
      },
      "source": [
        ""
      ],
      "execution_count": null,
      "outputs": []
    }
  ]
}